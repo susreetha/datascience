{
  "cells": [
    {
      "cell_type": "markdown",
      "metadata": {
        "id": "view-in-github",
        "colab_type": "text"
      },
      "source": [
        "<a href=\"https://colab.research.google.com/github/susreetha/datascience/blob/main/Gesture_Recognition.ipynb\" target=\"_parent\"><img src=\"https://colab.research.google.com/assets/colab-badge.svg\" alt=\"Open In Colab\"/></a>"
      ]
    },
    {
      "cell_type": "markdown",
      "metadata": {
        "id": "yFh43oSizs8z"
      },
      "source": [
        "# Gesture Recognition\n"
      ]
    },
    {
      "cell_type": "markdown",
      "metadata": {
        "id": "AVFPZHOOz_UQ"
      },
      "source": [
        "### Problem Statement\n",
        "Imagine you are working as a data scientist at a home electronics company which manufactures state of the art smart televisions. You want to develop a cool feature in the smart-TV that can recognise five different gestures performed by the user which will help users control the TV without using a remote.\n",
        "\n",
        "The gestures are continuously monitored by the webcam mounted on the TV. Each gesture corresponds to a specific command:\n",
        "\n",
        "- Thumbs up:  Increase the volume\n",
        "- Thumbs down: Decrease the volume\n",
        "- Left swipe: 'Jump' backwards 10 seconds\n",
        "- Right swipe: 'Jump' forward 10 seconds  \n",
        "- Stop: Pause the movie\n",
        "\n",
        "\n",
        "Each video is a sequence of 30 frames (or images)."
      ]
    },
    {
      "cell_type": "markdown",
      "metadata": {
        "id": "LqMHHsjw0NQ9"
      },
      "source": [
        "### Objectives\n",
        "\n",
        "\n",
        "\n",
        "1.   **Generator**:  The generator should be able to take a batch of videos as input without any error. Steps like cropping, resizing and normalization should be performed successfully.\n",
        "2.   **Model**: Develop a model that is able to train without any errors which will be judged on the total number of parameters (as the inference(prediction) time should be less) and the accuracy achieved.\n",
        "3. **Write up**: This should contain the detailed procedure followed in choosing the final model. The write up should start with the reason for choosing the base model, then highlight the reasons and metrics taken into consideration to modify and experiment to arrive at the final model."
      ]
    },
    {
      "cell_type": "code",
      "execution_count": null,
      "metadata": {
        "id": "9R30QKFxXsHU",
        "colab": {
          "base_uri": "https://localhost:8080/"
        },
        "outputId": "640309db-0c25-458f-c13f-78cc00cd4730"
      },
      "outputs": [
        {
          "output_type": "stream",
          "name": "stdout",
          "text": [
            "Found existing installation: scipy 1.2.2\n",
            "Uninstalling scipy-1.2.2:\n",
            "  Would remove:\n",
            "    /usr/local/lib/python3.7/dist-packages/scipy-1.2.2.dist-info/*\n",
            "    /usr/local/lib/python3.7/dist-packages/scipy/*\n",
            "Proceed (y/n)? y\n",
            "  Successfully uninstalled scipy-1.2.2\n",
            "Collecting scipy==1.2.2\n",
            "  Using cached scipy-1.2.2-cp37-cp37m-manylinux1_x86_64.whl (24.8 MB)\n",
            "Requirement already satisfied: numpy>=1.8.2 in /usr/local/lib/python3.7/dist-packages (from scipy==1.2.2) (1.21.5)\n",
            "Installing collected packages: scipy\n",
            "\u001b[31mERROR: pip's dependency resolver does not currently take into account all the packages that are installed. This behaviour is the source of the following dependency conflicts.\n",
            "albumentations 0.1.12 requires imgaug<0.2.7,>=0.2.5, but you have imgaug 0.2.9 which is incompatible.\u001b[0m\n",
            "Successfully installed scipy-1.2.2\n"
          ]
        }
      ],
      "source": [
        "!pip uninstall scipy\n",
        "!pip install scipy==1.2.2\n"
      ]
    },
    {
      "cell_type": "code",
      "execution_count": null,
      "metadata": {
        "id": "KlBdMuj913ot"
      },
      "outputs": [],
      "source": [
        "# Importing the necessary libraries\n",
        "\n",
        "import numpy as np\n",
        "import os\n",
        "from scipy.misc import imread, imresize\n",
        "import datetime\n",
        "import os\n",
        "import warnings\n",
        "warnings.filterwarnings(\"ignore\")\n",
        "import abc\n",
        "from sys import getsizeof"
      ]
    },
    {
      "cell_type": "markdown",
      "metadata": {
        "id": "IOGYr8lj6Ynx"
      },
      "source": [
        "We set the random seed so that the results don't vary drastically.\n",
        "\n"
      ]
    },
    {
      "cell_type": "code",
      "execution_count": null,
      "metadata": {
        "id": "G_FcvfBl6aLu"
      },
      "outputs": [],
      "source": [
        "np.random.seed(30)\n",
        "import random as rn\n",
        "rn.seed(30)\n",
        "from keras import backend as K\n",
        "import tensorflow as tf\n",
        "tf.random.set_seed(30)"
      ]
    },
    {
      "cell_type": "markdown",
      "metadata": {
        "id": "qsoAzHzD8XaP"
      },
      "source": [
        "In this block, you read the folder names for training and validation. You also set the batch_size here. Note that you set the batch size in such a way that you are able to use the GPU in full capacity. You keep increasing the batch size until the machine throws an error.\n",
        "\n"
      ]
    },
    {
      "cell_type": "code",
      "execution_count": null,
      "metadata": {
        "colab": {
          "base_uri": "https://localhost:8080/"
        },
        "id": "5KIWCXO_8Zol",
        "outputId": "18b5c7f9-1802-43b3-e7c7-5588a8bc6fce"
      },
      "outputs": [
        {
          "output_type": "stream",
          "name": "stdout",
          "text": [
            "Drive already mounted at /content/gdrive; to attempt to forcibly remount, call drive.mount(\"/content/gdrive\", force_remount=True).\n"
          ]
        }
      ],
      "source": [
        "#get the train and test dataset directories\n",
        "from google.colab import drive\n",
        "drive.mount('/content/gdrive')\n",
        "root_path = '/content/gdrive/MyDrive/Gesture Recognition/Project_data'\n",
        "train_doc = np.random.permutation(open(root_path + '/train.csv').readlines())\n",
        "val_doc = np.random.permutation(open(root_path + '/val.csv').readlines())\n",
        "batch_size = 32"
      ]
    },
    {
      "cell_type": "code",
      "execution_count": null,
      "metadata": {
        "id": "zxgp7UTTHf54"
      },
      "outputs": [],
      "source": [
        "num_train_sequences = len(train_doc)\n",
        "num_val_sequences = len(val_doc)"
      ]
    },
    {
      "cell_type": "code",
      "execution_count": null,
      "metadata": {
        "id": "hsaDa0j08f8B"
      },
      "outputs": [],
      "source": [
        "#import keras and tensorflow\n",
        "\n",
        "from keras.models import Sequential, Model\n",
        "from keras.layers import Dense, GRU, Flatten, TimeDistributed, Flatten, BatchNormalization, Activation\n",
        "from keras.layers.convolutional import Conv3D, MaxPooling3D, Conv2D, MaxPooling2D\n",
        "from keras.layers.recurrent import LSTM\n",
        "from keras.callbacks import ModelCheckpoint, ReduceLROnPlateau, EarlyStopping\n",
        "from keras import optimizers\n",
        "from keras.layers import Dropout\n",
        "\n",
        "#import cv2 and matplots for plotting\n",
        "import cv2\n",
        "import matplotlib.pyplot as plt\n",
        "% matplotlib inline"
      ]
    },
    {
      "cell_type": "markdown",
      "metadata": {
        "id": "txvO4DZa-7vI"
      },
      "source": [
        "## Generator\n",
        "This is one of the most important part of the code. The overall structure of the generator has been given. In the generator, you are going to preprocess the images as you have images of 2 different dimensions as well as create a batch of video frames. You have to experiment with `img_idx`, `y`,`z` and normalization such that you get high accuracy."
      ]
    },
    {
      "cell_type": "code",
      "execution_count": null,
      "metadata": {
        "id": "XB1K-xpb-9k_"
      },
      "outputs": [],
      "source": [
        "#abstract base class for model building\n",
        "class ModelBuilder(metaclass= abc.ABCMeta):\n",
        "    # constructor initializes path for the class\n",
        "    def __init__(self):\n",
        "        self.train_doc = train_doc\n",
        "        self.val_doc = val_doc\n",
        "        self.train_path = root_path + '/' + 'train'\n",
        "        self.val_path =  root_path + '/' + 'val'\n",
        "        self.num_train_sequences = len(self.train_doc)\n",
        "        self.num_val_sequences = len(self.val_doc)\n",
        "    # initialize image dimensions\n",
        "    def initialize_image_properties(self,image_height=100,image_width=100):\n",
        "        self.image_height=image_height\n",
        "        self.image_width=image_width\n",
        "        self.channels=3\n",
        "        self.num_classes=5\n",
        "        self.total_frames=30\n",
        "    # initialize hyper params: the batch size, frames to sample and the no. of epochs\n",
        "    def initialize_hyperparams(self,frames_to_sample=30,batch_size=20,num_epochs=20):\n",
        "        self.frames_to_sample=frames_to_sample\n",
        "        self.batch_size=batch_size\n",
        "        self.num_epochs=num_epochs\n",
        "\n",
        "    #  generator function for preprocessing image data set\n",
        "    def generator(self,source_path, folder_list, augment=False):\n",
        "        img_idx = np.round(np.linspace(0,self.total_frames-1,self.frames_to_sample)).astype(int)\n",
        "        batch_size=self.batch_size\n",
        "        while True:\n",
        "            t = np.random.permutation(folder_list)\n",
        "            num_batches = len(t)//batch_size\n",
        "\n",
        "            for batch in range(num_batches):\n",
        "                batch_data, batch_labels= self.one_batch_data(source_path,t,batch,batch_size,img_idx,augment)\n",
        "                yield batch_data, batch_labels\n",
        "\n",
        "            remaining_seq=len(t)%batch_size\n",
        "\n",
        "            if (remaining_seq != 0):\n",
        "                batch_data, batch_labels= self.one_batch_data(source_path,t,num_batches,batch_size,img_idx,augment,remaining_seq)\n",
        "                yield batch_data, batch_labels\n",
        "\n",
        "\n",
        "    def one_batch_data(self,source_path,t,batch,batch_size,img_idx,augment,remaining_seq=0):\n",
        "\n",
        "        seq_len = remaining_seq if remaining_seq else batch_size\n",
        "\n",
        "        batch_data = np.zeros((seq_len,len(img_idx),self.image_height,self.image_width,self.channels))\n",
        "        batch_labels = np.zeros((seq_len,self.num_classes))\n",
        "\n",
        "        if (augment): batch_data_aug = np.zeros((seq_len,len(img_idx),self.image_height,self.image_width,self.channels))\n",
        "\n",
        "\n",
        "        for folder in range(seq_len):\n",
        "            imgs = os.listdir(source_path+'/'+ t[folder + (batch*batch_size)].split(';')[0])\n",
        "            for idx,item in enumerate(img_idx):\n",
        "                #performing image reading and resizing\n",
        "                image = imread(source_path+'/'+ t[folder + (batch*batch_size)].strip().split(';')[0]+'/'+imgs[item]).astype(np.float32)\n",
        "                image_resized=imresize(image,(self.image_height,self.image_width,3))\n",
        "\n",
        "                #normalizing the images\n",
        "                batch_data[folder,idx,:,:,0] = (image_resized[:,:,0])/255\n",
        "                batch_data[folder,idx,:,:,1] = (image_resized[:,:,1])/255\n",
        "                batch_data[folder,idx,:,:,2] = (image_resized[:,:,2])/255\n",
        "\n",
        "                if (augment):\n",
        "                    shifted = cv2.warpAffine(image,\n",
        "                                             np.float32([[1, 0, np.random.randint(-30,30)],[0, 1, np.random.randint(-30,30)]]),\n",
        "                                            (image.shape[1], image.shape[0]))\n",
        "\n",
        "                    gray = cv2.cvtColor(shifted,cv2.COLOR_BGR2GRAY)\n",
        "\n",
        "                    x0, y0 = np.argwhere(gray > 0).min(axis=0)\n",
        "                    x1, y1 = np.argwhere(gray > 0).max(axis=0)\n",
        "                    # cropping the images to have the targeted gestures and remove the noise from the images.\n",
        "                    cropped=shifted[x0:x1,y0:y1,:]\n",
        "\n",
        "                    image_resized=imresize(cropped,(self.image_height,self.image_width,3))\n",
        "\n",
        "                    #shifted = cv2.warpAffine(image_resized,\n",
        "                    #                        np.float32([[1, 0, np.random.randint(-3,3)],[0, 1, np.random.randint(-3,3)]]),\n",
        "                    #                        (image_resized.shape[1], image_resized.shape[0]))\n",
        "\n",
        "                    batch_data_aug[folder,idx,:,:,0] = (image_resized[:,:,0])/255\n",
        "                    batch_data_aug[folder,idx,:,:,1] = (image_resized[:,:,1])/255\n",
        "                    batch_data_aug[folder,idx,:,:,2] = (image_resized[:,:,2])/255\n",
        "\n",
        "\n",
        "            batch_labels[folder, int(t[folder + (batch*batch_size)].strip().split(';')[2])] = 1\n",
        "\n",
        "\n",
        "        if (augment):\n",
        "            batch_data=np.concatenate([batch_data,batch_data_aug])\n",
        "            batch_labels=np.concatenate([batch_labels,batch_labels])\n",
        "\n",
        "\n",
        "        return(batch_data,batch_labels)\n",
        "\n",
        "\n",
        "    def train_model(self, model, augment_data=False):\n",
        "        train_generator = self.generator(self.train_path, self.train_doc,augment=augment_data)\n",
        "        val_generator = self.generator(self.val_path, self.val_doc)\n",
        "\n",
        "        model_name = 'model_init' + '_' + str(datetime.datetime.now()).replace(' ','').replace(':','_') + '/'\n",
        "\n",
        "        if not os.path.exists(model_name):\n",
        "            os.mkdir(model_name)\n",
        "\n",
        "        filepath = model_name + 'model-{epoch:05d}-{loss:.5f}-{categorical_accuracy:.5f}-{val_loss:.5f}-{val_categorical_accuracy:.5f}.h5'\n",
        "\n",
        "        checkpoint = ModelCheckpoint(filepath, monitor='val_loss', verbose=1, save_best_only=True, save_weights_only=False, mode='auto', period=1)\n",
        "        LR = ReduceLROnPlateau(monitor='val_loss', factor=0.2, verbose=1, patience=4)\n",
        "\n",
        "        earlystop = EarlyStopping( monitor=\"val_loss\", min_delta=0,patience=10,verbose=1)\n",
        "        callbacks_list = [checkpoint, LR, earlystop]\n",
        "\n",
        "        if (self.num_train_sequences%self.batch_size) == 0:\n",
        "            steps_per_epoch = int(self.num_train_sequences/self.batch_size)\n",
        "        else:\n",
        "            steps_per_epoch = (self.num_train_sequences//self.batch_size) + 1\n",
        "\n",
        "        if (self.num_val_sequences%self.batch_size) == 0:\n",
        "            validation_steps = int(self.num_val_sequences/self.batch_size)\n",
        "        else:\n",
        "            validation_steps = (self.num_val_sequences//self.batch_size) + 1\n",
        "\n",
        "        history=model.fit_generator(train_generator, steps_per_epoch=steps_per_epoch, epochs=self.num_epochs, verbose=1,\n",
        "                            callbacks=callbacks_list, validation_data=val_generator,\n",
        "                            validation_steps=validation_steps, class_weight=None, workers=1, initial_epoch=0)\n",
        "        return history\n",
        "\n",
        "\n",
        "    @abc.abstractmethod\n",
        "    def define_model(self):\n",
        "        pass"
      ]
    },
    {
      "cell_type": "code",
      "execution_count": null,
      "metadata": {
        "id": "tMpTDgwNDDSJ"
      },
      "outputs": [],
      "source": [
        "## function for plotting accuracy/loss\n",
        "def plot(history):\n",
        "    fig, axes = plt.subplots(nrows=1, ncols=2, figsize=(15,4))\n",
        "    axes[0].plot(history.history['loss'])\n",
        "    axes[0].plot(history.history['val_loss'])\n",
        "    axes[0].legend(['loss','val_loss'])\n",
        "\n",
        "    axes[1].plot(history.history['categorical_accuracy'])\n",
        "    axes[1].plot(history.history['val_categorical_accuracy'])\n",
        "    axes[1].legend(['categorical_accuracy','val_categorical_accuracy'])"
      ]
    },
    {
      "cell_type": "markdown",
      "metadata": {
        "id": "WH4wVaXo_hSa"
      },
      "source": [
        "## Model\n",
        "Here you make the model using different functionalities that Keras provides. Remember to use `Conv3D` and `MaxPooling3D` and not `Conv2D` and `Maxpooling2D` for a 3D convolution model. You would want to use `TimeDistributed` while building a Conv2D + RNN model. Also remember that the last layer is the softmax. Design the network in such a way that the model is able to give good accuracy on the least number of parameters so that it can fit in the memory of the webcam."
      ]
    },
    {
      "cell_type": "markdown",
      "metadata": {
        "id": "C_X65mGc_vE8"
      },
      "source": [
        "### Sample Model - Conv3D Model\n"
      ]
    },
    {
      "cell_type": "code",
      "execution_count": null,
      "metadata": {
        "id": "VX_E4JpG_23G"
      },
      "outputs": [],
      "source": [
        "class ModelConv3DBase(ModelBuilder):\n",
        "\n",
        "    def define_model(self,filtersize=(3,3,3),dense_neurons=64,dropout=0.25):\n",
        "\n",
        "        model = Sequential()\n",
        "        model.add(Conv3D(16, filtersize, padding='same',\n",
        "                 input_shape=(self.frames_to_sample,self.image_height,self.image_width,self.channels)))\n",
        "        model.add(Activation('relu'))\n",
        "        model.add(BatchNormalization())\n",
        "        model.add(MaxPooling3D(pool_size=(2, 2, 2)))\n",
        "\n",
        "        model.add(Conv3D(32, filtersize, padding='same'))\n",
        "        model.add(Activation('relu'))\n",
        "        model.add(BatchNormalization())\n",
        "        model.add(MaxPooling3D(pool_size=(2, 2, 2)))\n",
        "\n",
        "        model.add(Conv3D(64, filtersize, padding='same'))\n",
        "        model.add(Activation('relu'))\n",
        "        model.add(BatchNormalization())\n",
        "        model.add(MaxPooling3D(pool_size=(2, 2, 2)))\n",
        "\n",
        "        model.add(Conv3D(128, filtersize, padding='same'))\n",
        "        model.add(Activation('relu'))\n",
        "        model.add(BatchNormalization())\n",
        "        model.add(MaxPooling3D(pool_size=(2, 2, 2)))\n",
        "\n",
        "        model.add(Flatten())\n",
        "        model.add(Dense(dense_neurons,activation='relu'))\n",
        "        model.add(BatchNormalization())\n",
        "        model.add(Dropout(dropout))\n",
        "\n",
        "        model.add(Dense(dense_neurons,activation='relu'))\n",
        "        model.add(BatchNormalization())\n",
        "        model.add(Dropout(dropout))\n",
        "\n",
        "\n",
        "        model.add(Dense(self.num_classes,activation='softmax'))\n",
        "\n",
        "        model.compile(optimizer = 'adam',\n",
        "                      loss = 'categorical_crossentropy',\n",
        "                      metrics = ['categorical_accuracy'])\n",
        "        return model\n"
      ]
    },
    {
      "cell_type": "markdown",
      "metadata": {
        "id": "zcTQ8cyuJssA"
      },
      "source": [
        "#### Model 1 - 30 Frames , batch size 10 & 1 epoch\n"
      ]
    },
    {
      "cell_type": "code",
      "execution_count": null,
      "metadata": {
        "colab": {
          "base_uri": "https://localhost:8080/"
        },
        "id": "K9E0L-LgKgF9",
        "outputId": "eff9f4ec-dd84-4ba9-ac8c-56d3416669d0"
      },
      "outputs": [
        {
          "output_type": "stream",
          "name": "stdout",
          "text": [
            "Model: \"sequential\"\n",
            "_________________________________________________________________\n",
            " Layer (type)                Output Shape              Param #   \n",
            "=================================================================\n",
            " conv3d (Conv3D)             (None, 30, 160, 160, 16)  1312      \n",
            "                                                                 \n",
            " activation (Activation)     (None, 30, 160, 160, 16)  0         \n",
            "                                                                 \n",
            " batch_normalization (BatchN  (None, 30, 160, 160, 16)  64       \n",
            " ormalization)                                                   \n",
            "                                                                 \n",
            " max_pooling3d (MaxPooling3D  (None, 15, 80, 80, 16)   0         \n",
            " )                                                               \n",
            "                                                                 \n",
            " conv3d_1 (Conv3D)           (None, 15, 80, 80, 32)    13856     \n",
            "                                                                 \n",
            " activation_1 (Activation)   (None, 15, 80, 80, 32)    0         \n",
            "                                                                 \n",
            " batch_normalization_1 (Batc  (None, 15, 80, 80, 32)   128       \n",
            " hNormalization)                                                 \n",
            "                                                                 \n",
            " max_pooling3d_1 (MaxPooling  (None, 7, 40, 40, 32)    0         \n",
            " 3D)                                                             \n",
            "                                                                 \n",
            " conv3d_2 (Conv3D)           (None, 7, 40, 40, 64)     55360     \n",
            "                                                                 \n",
            " activation_2 (Activation)   (None, 7, 40, 40, 64)     0         \n",
            "                                                                 \n",
            " batch_normalization_2 (Batc  (None, 7, 40, 40, 64)    256       \n",
            " hNormalization)                                                 \n",
            "                                                                 \n",
            " max_pooling3d_2 (MaxPooling  (None, 3, 20, 20, 64)    0         \n",
            " 3D)                                                             \n",
            "                                                                 \n",
            " conv3d_3 (Conv3D)           (None, 3, 20, 20, 128)    221312    \n",
            "                                                                 \n",
            " activation_3 (Activation)   (None, 3, 20, 20, 128)    0         \n",
            "                                                                 \n",
            " batch_normalization_3 (Batc  (None, 3, 20, 20, 128)   512       \n",
            " hNormalization)                                                 \n",
            "                                                                 \n",
            " max_pooling3d_3 (MaxPooling  (None, 1, 10, 10, 128)   0         \n",
            " 3D)                                                             \n",
            "                                                                 \n",
            " flatten (Flatten)           (None, 12800)             0         \n",
            "                                                                 \n",
            " dense (Dense)               (None, 64)                819264    \n",
            "                                                                 \n",
            " batch_normalization_4 (Batc  (None, 64)               256       \n",
            " hNormalization)                                                 \n",
            "                                                                 \n",
            " dropout (Dropout)           (None, 64)                0         \n",
            "                                                                 \n",
            " dense_1 (Dense)             (None, 64)                4160      \n",
            "                                                                 \n",
            " batch_normalization_5 (Batc  (None, 64)               256       \n",
            " hNormalization)                                                 \n",
            "                                                                 \n",
            " dropout_1 (Dropout)         (None, 64)                0         \n",
            "                                                                 \n",
            " dense_2 (Dense)             (None, 5)                 325       \n",
            "                                                                 \n",
            "=================================================================\n",
            "Total params: 1,117,061\n",
            "Trainable params: 1,116,325\n",
            "Non-trainable params: 736\n",
            "_________________________________________________________________\n"
          ]
        }
      ],
      "source": [
        "conv_3d_model1 = ModelConv3DBase()\n",
        "conv_3d_model1.initialize_image_properties(image_height=160, image_width=160)\n",
        "conv_3d_model1.initialize_hyperparams(frames_to_sample=30, batch_size=10, num_epochs=1)\n",
        "conv_3d_model1 = conv_3d_model1.define_model()\n",
        "conv_3d_model1.summary()"
      ]
    },
    {
      "cell_type": "markdown",
      "metadata": {
        "id": "qbnCxYCMMYK7"
      },
      "source": [
        "### Sample cropping"
      ]
    },
    {
      "cell_type": "code",
      "execution_count": null,
      "metadata": {
        "colab": {
          "base_uri": "https://localhost:8080/",
          "height": 222
        },
        "id": "pavU28BIMcD6",
        "outputId": "a425b8eb-00f0-40a9-8182-4efa85fb51fb"
      },
      "outputs": [
        {
          "output_type": "execute_result",
          "data": {
            "text/plain": [
              "<matplotlib.image.AxesImage at 0x7fc470265110>"
            ]
          },
          "metadata": {},
          "execution_count": 11
        },
        {
          "output_type": "display_data",
          "data": {
            "text/plain": [
              "<Figure size 432x288 with 2 Axes>"
            ],
            "image/png": "[encoded data removed]"
          },
          "metadata": {
            "needs_background": "light"
          }
        }
      ],
      "source": [
        "test_generator = ModelConv3DBase()\n",
        "test_generator.initialize_image_properties(image_height=160,image_width=160)\n",
        "test_generator.initialize_hyperparams(frames_to_sample=30,batch_size=3,num_epochs=1)\n",
        "\n",
        "g = test_generator.generator(test_generator.val_path,test_generator.val_doc,augment=True)\n",
        "batch_data, batch_labels=next(g)\n",
        "fig, axes = plt.subplots(nrows=1, ncols=2)\n",
        "axes[0].imshow(batch_data[0,15,:,:,:])\n",
        "axes[1].imshow(batch_data[3,15,:,:,:])"
      ]
    },
    {
      "cell_type": "markdown",
      "metadata": {
        "id": "Z9ksP8YIZTC7"
      },
      "source": [
        "### Try other models with different hyperparams"
      ]
    },
    {
      "cell_type": "code",
      "execution_count": null,
      "metadata": {
        "colab": {
          "base_uri": "https://localhost:8080/"
        },
        "id": "n68v8nfyZcHn",
        "outputId": "c7bf2fbe-24f6-4901-cda5-1da47d9a0b65"
      },
      "outputs": [
        {
          "output_type": "stream",
          "name": "stdout",
          "text": [
            "Model: \"sequential_1\"\n",
            "_________________________________________________________________\n",
            " Layer (type)                Output Shape              Param #   \n",
            "=================================================================\n",
            " conv3d_4 (Conv3D)           (None, 30, 160, 160, 16)  1312      \n",
            "                                                                 \n",
            " activation_4 (Activation)   (None, 30, 160, 160, 16)  0         \n",
            "                                                                 \n",
            " batch_normalization_6 (Batc  (None, 30, 160, 160, 16)  64       \n",
            " hNormalization)                                                 \n",
            "                                                                 \n",
            " max_pooling3d_4 (MaxPooling  (None, 15, 80, 80, 16)   0         \n",
            " 3D)                                                             \n",
            "                                                                 \n",
            " conv3d_5 (Conv3D)           (None, 15, 80, 80, 32)    13856     \n",
            "                                                                 \n",
            " activation_5 (Activation)   (None, 15, 80, 80, 32)    0         \n",
            "                                                                 \n",
            " batch_normalization_7 (Batc  (None, 15, 80, 80, 32)   128       \n",
            " hNormalization)                                                 \n",
            "                                                                 \n",
            " max_pooling3d_5 (MaxPooling  (None, 7, 40, 40, 32)    0         \n",
            " 3D)                                                             \n",
            "                                                                 \n",
            " conv3d_6 (Conv3D)           (None, 7, 40, 40, 64)     55360     \n",
            "                                                                 \n",
            " activation_6 (Activation)   (None, 7, 40, 40, 64)     0         \n",
            "                                                                 \n",
            " batch_normalization_8 (Batc  (None, 7, 40, 40, 64)    256       \n",
            " hNormalization)                                                 \n",
            "                                                                 \n",
            " max_pooling3d_6 (MaxPooling  (None, 3, 20, 20, 64)    0         \n",
            " 3D)                                                             \n",
            "                                                                 \n",
            " conv3d_7 (Conv3D)           (None, 3, 20, 20, 128)    221312    \n",
            "                                                                 \n",
            " activation_7 (Activation)   (None, 3, 20, 20, 128)    0         \n",
            "                                                                 \n",
            " batch_normalization_9 (Batc  (None, 3, 20, 20, 128)   512       \n",
            " hNormalization)                                                 \n",
            "                                                                 \n",
            " max_pooling3d_7 (MaxPooling  (None, 1, 10, 10, 128)   0         \n",
            " 3D)                                                             \n",
            "                                                                 \n",
            " flatten_1 (Flatten)         (None, 12800)             0         \n",
            "                                                                 \n",
            " dense_3 (Dense)             (None, 64)                819264    \n",
            "                                                                 \n",
            " batch_normalization_10 (Bat  (None, 64)               256       \n",
            " chNormalization)                                                \n",
            "                                                                 \n",
            " dropout_2 (Dropout)         (None, 64)                0         \n",
            "                                                                 \n",
            " dense_4 (Dense)             (None, 64)                4160      \n",
            "                                                                 \n",
            " batch_normalization_11 (Bat  (None, 64)               256       \n",
            " chNormalization)                                                \n",
            "                                                                 \n",
            " dropout_3 (Dropout)         (None, 64)                0         \n",
            "                                                                 \n",
            " dense_5 (Dense)             (None, 5)                 325       \n",
            "                                                                 \n",
            "=================================================================\n",
            "Total params: 1,117,061\n",
            "Trainable params: 1,116,325\n",
            "Non-trainable params: 736\n",
            "_________________________________________________________________\n"
          ]
        }
      ],
      "source": [
        "conv_3d_model1 = ModelConv3DBase()\n",
        "conv_3d_model1.initialize_image_properties(image_height=160, image_width=160)\n",
        "conv_3d_model1.initialize_hyperparams(frames_to_sample=30, batch_size=40, num_epochs=2)\n",
        "conv_3d_model1 = conv_3d_model1.define_model()\n",
        "conv_3d_model1.summary()"
      ]
    },
    {
      "cell_type": "code",
      "execution_count": null,
      "metadata": {
        "colab": {
          "base_uri": "https://localhost:8080/"
        },
        "id": "g3XOzoVRaGin",
        "outputId": "cb260338-b790-4acd-f52d-a9e17cd0fddf"
      },
      "outputs": [
        {
          "output_type": "stream",
          "name": "stdout",
          "text": [
            "Model: \"sequential_2\"\n",
            "_________________________________________________________________\n",
            " Layer (type)                Output Shape              Param #   \n",
            "=================================================================\n",
            " conv3d_8 (Conv3D)           (None, 20, 160, 160, 16)  1312      \n",
            "                                                                 \n",
            " activation_8 (Activation)   (None, 20, 160, 160, 16)  0         \n",
            "                                                                 \n",
            " batch_normalization_12 (Bat  (None, 20, 160, 160, 16)  64       \n",
            " chNormalization)                                                \n",
            "                                                                 \n",
            " max_pooling3d_8 (MaxPooling  (None, 10, 80, 80, 16)   0         \n",
            " 3D)                                                             \n",
            "                                                                 \n",
            " conv3d_9 (Conv3D)           (None, 10, 80, 80, 32)    13856     \n",
            "                                                                 \n",
            " activation_9 (Activation)   (None, 10, 80, 80, 32)    0         \n",
            "                                                                 \n",
            " batch_normalization_13 (Bat  (None, 10, 80, 80, 32)   128       \n",
            " chNormalization)                                                \n",
            "                                                                 \n",
            " max_pooling3d_9 (MaxPooling  (None, 5, 40, 40, 32)    0         \n",
            " 3D)                                                             \n",
            "                                                                 \n",
            " conv3d_10 (Conv3D)          (None, 5, 40, 40, 64)     55360     \n",
            "                                                                 \n",
            " activation_10 (Activation)  (None, 5, 40, 40, 64)     0         \n",
            "                                                                 \n",
            " batch_normalization_14 (Bat  (None, 5, 40, 40, 64)    256       \n",
            " chNormalization)                                                \n",
            "                                                                 \n",
            " max_pooling3d_10 (MaxPoolin  (None, 2, 20, 20, 64)    0         \n",
            " g3D)                                                            \n",
            "                                                                 \n",
            " conv3d_11 (Conv3D)          (None, 2, 20, 20, 128)    221312    \n",
            "                                                                 \n",
            " activation_11 (Activation)  (None, 2, 20, 20, 128)    0         \n",
            "                                                                 \n",
            " batch_normalization_15 (Bat  (None, 2, 20, 20, 128)   512       \n",
            " chNormalization)                                                \n",
            "                                                                 \n",
            " max_pooling3d_11 (MaxPoolin  (None, 1, 10, 10, 128)   0         \n",
            " g3D)                                                            \n",
            "                                                                 \n",
            " flatten_2 (Flatten)         (None, 12800)             0         \n",
            "                                                                 \n",
            " dense_6 (Dense)             (None, 64)                819264    \n",
            "                                                                 \n",
            " batch_normalization_16 (Bat  (None, 64)               256       \n",
            " chNormalization)                                                \n",
            "                                                                 \n",
            " dropout_4 (Dropout)         (None, 64)                0         \n",
            "                                                                 \n",
            " dense_7 (Dense)             (None, 64)                4160      \n",
            "                                                                 \n",
            " batch_normalization_17 (Bat  (None, 64)               256       \n",
            " chNormalization)                                                \n",
            "                                                                 \n",
            " dropout_5 (Dropout)         (None, 64)                0         \n",
            "                                                                 \n",
            " dense_8 (Dense)             (None, 5)                 325       \n",
            "                                                                 \n",
            "=================================================================\n",
            "Total params: 1,117,061\n",
            "Trainable params: 1,116,325\n",
            "Non-trainable params: 736\n",
            "_________________________________________________________________\n"
          ]
        }
      ],
      "source": [
        "conv_3d_model1 = ModelConv3DBase()\n",
        "conv_3d_model1.initialize_image_properties(image_height=160, image_width=160)\n",
        "conv_3d_model1.initialize_hyperparams(frames_to_sample=20, batch_size=40, num_epochs=2)\n",
        "conv_3d_model1 = conv_3d_model1.define_model()\n",
        "conv_3d_model1.summary()"
      ]
    },
    {
      "cell_type": "code",
      "execution_count": null,
      "metadata": {
        "colab": {
          "base_uri": "https://localhost:8080/"
        },
        "id": "ixplxIe5bGks",
        "outputId": "aa7c8035-a09c-4002-db44-faa386ef6867"
      },
      "outputs": [
        {
          "output_type": "stream",
          "name": "stdout",
          "text": [
            "Model: \"sequential_3\"\n",
            "_________________________________________________________________\n",
            " Layer (type)                Output Shape              Param #   \n",
            "=================================================================\n",
            " conv3d_12 (Conv3D)          (None, 20, 200, 200, 16)  1312      \n",
            "                                                                 \n",
            " activation_12 (Activation)  (None, 20, 200, 200, 16)  0         \n",
            "                                                                 \n",
            " batch_normalization_18 (Bat  (None, 20, 200, 200, 16)  64       \n",
            " chNormalization)                                                \n",
            "                                                                 \n",
            " max_pooling3d_12 (MaxPoolin  (None, 10, 100, 100, 16)  0        \n",
            " g3D)                                                            \n",
            "                                                                 \n",
            " conv3d_13 (Conv3D)          (None, 10, 100, 100, 32)  13856     \n",
            "                                                                 \n",
            " activation_13 (Activation)  (None, 10, 100, 100, 32)  0         \n",
            "                                                                 \n",
            " batch_normalization_19 (Bat  (None, 10, 100, 100, 32)  128      \n",
            " chNormalization)                                                \n",
            "                                                                 \n",
            " max_pooling3d_13 (MaxPoolin  (None, 5, 50, 50, 32)    0         \n",
            " g3D)                                                            \n",
            "                                                                 \n",
            " conv3d_14 (Conv3D)          (None, 5, 50, 50, 64)     55360     \n",
            "                                                                 \n",
            " activation_14 (Activation)  (None, 5, 50, 50, 64)     0         \n",
            "                                                                 \n",
            " batch_normalization_20 (Bat  (None, 5, 50, 50, 64)    256       \n",
            " chNormalization)                                                \n",
            "                                                                 \n",
            " max_pooling3d_14 (MaxPoolin  (None, 2, 25, 25, 64)    0         \n",
            " g3D)                                                            \n",
            "                                                                 \n",
            " conv3d_15 (Conv3D)          (None, 2, 25, 25, 128)    221312    \n",
            "                                                                 \n",
            " activation_15 (Activation)  (None, 2, 25, 25, 128)    0         \n",
            "                                                                 \n",
            " batch_normalization_21 (Bat  (None, 2, 25, 25, 128)   512       \n",
            " chNormalization)                                                \n",
            "                                                                 \n",
            " max_pooling3d_15 (MaxPoolin  (None, 1, 12, 12, 128)   0         \n",
            " g3D)                                                            \n",
            "                                                                 \n",
            " flatten_3 (Flatten)         (None, 18432)             0         \n",
            "                                                                 \n",
            " dense_9 (Dense)             (None, 64)                1179712   \n",
            "                                                                 \n",
            " batch_normalization_22 (Bat  (None, 64)               256       \n",
            " chNormalization)                                                \n",
            "                                                                 \n",
            " dropout_6 (Dropout)         (None, 64)                0         \n",
            "                                                                 \n",
            " dense_10 (Dense)            (None, 64)                4160      \n",
            "                                                                 \n",
            " batch_normalization_23 (Bat  (None, 64)               256       \n",
            " chNormalization)                                                \n",
            "                                                                 \n",
            " dropout_7 (Dropout)         (None, 64)                0         \n",
            "                                                                 \n",
            " dense_11 (Dense)            (None, 5)                 325       \n",
            "                                                                 \n",
            "=================================================================\n",
            "Total params: 1,477,509\n",
            "Trainable params: 1,476,773\n",
            "Non-trainable params: 736\n",
            "_________________________________________________________________\n"
          ]
        }
      ],
      "source": [
        "conv_3d_model1 = ModelConv3DBase()\n",
        "conv_3d_model1.initialize_image_properties(image_height=200, image_width=200)\n",
        "conv_3d_model1.initialize_hyperparams(frames_to_sample=20, batch_size=40, num_epochs=2)\n",
        "conv_3d_model1 = conv_3d_model1.define_model()\n",
        "conv_3d_model1.summary()"
      ]
    },
    {
      "cell_type": "code",
      "execution_count": null,
      "metadata": {
        "colab": {
          "base_uri": "https://localhost:8080/"
        },
        "id": "Rw6jbaNjbeTd",
        "outputId": "8830a723-5a58-47a8-cb7c-94046c49fd93"
      },
      "outputs": [
        {
          "output_type": "stream",
          "name": "stdout",
          "text": [
            "Model: \"sequential_4\"\n",
            "_________________________________________________________________\n",
            " Layer (type)                Output Shape              Param #   \n",
            "=================================================================\n",
            " conv3d_16 (Conv3D)          (None, 16, 200, 200, 16)  1312      \n",
            "                                                                 \n",
            " activation_16 (Activation)  (None, 16, 200, 200, 16)  0         \n",
            "                                                                 \n",
            " batch_normalization_24 (Bat  (None, 16, 200, 200, 16)  64       \n",
            " chNormalization)                                                \n",
            "                                                                 \n",
            " max_pooling3d_16 (MaxPoolin  (None, 8, 100, 100, 16)  0         \n",
            " g3D)                                                            \n",
            "                                                                 \n",
            " conv3d_17 (Conv3D)          (None, 8, 100, 100, 32)   13856     \n",
            "                                                                 \n",
            " activation_17 (Activation)  (None, 8, 100, 100, 32)   0         \n",
            "                                                                 \n",
            " batch_normalization_25 (Bat  (None, 8, 100, 100, 32)  128       \n",
            " chNormalization)                                                \n",
            "                                                                 \n",
            " max_pooling3d_17 (MaxPoolin  (None, 4, 50, 50, 32)    0         \n",
            " g3D)                                                            \n",
            "                                                                 \n",
            " conv3d_18 (Conv3D)          (None, 4, 50, 50, 64)     55360     \n",
            "                                                                 \n",
            " activation_18 (Activation)  (None, 4, 50, 50, 64)     0         \n",
            "                                                                 \n",
            " batch_normalization_26 (Bat  (None, 4, 50, 50, 64)    256       \n",
            " chNormalization)                                                \n",
            "                                                                 \n",
            " max_pooling3d_18 (MaxPoolin  (None, 2, 25, 25, 64)    0         \n",
            " g3D)                                                            \n",
            "                                                                 \n",
            " conv3d_19 (Conv3D)          (None, 2, 25, 25, 128)    221312    \n",
            "                                                                 \n",
            " activation_19 (Activation)  (None, 2, 25, 25, 128)    0         \n",
            "                                                                 \n",
            " batch_normalization_27 (Bat  (None, 2, 25, 25, 128)   512       \n",
            " chNormalization)                                                \n",
            "                                                                 \n",
            " max_pooling3d_19 (MaxPoolin  (None, 1, 12, 12, 128)   0         \n",
            " g3D)                                                            \n",
            "                                                                 \n",
            " flatten_4 (Flatten)         (None, 18432)             0         \n",
            "                                                                 \n",
            " dense_12 (Dense)            (None, 64)                1179712   \n",
            "                                                                 \n",
            " batch_normalization_28 (Bat  (None, 64)               256       \n",
            " chNormalization)                                                \n",
            "                                                                 \n",
            " dropout_8 (Dropout)         (None, 64)                0         \n",
            "                                                                 \n",
            " dense_13 (Dense)            (None, 64)                4160      \n",
            "                                                                 \n",
            " batch_normalization_29 (Bat  (None, 64)               256       \n",
            " chNormalization)                                                \n",
            "                                                                 \n",
            " dropout_9 (Dropout)         (None, 64)                0         \n",
            "                                                                 \n",
            " dense_14 (Dense)            (None, 5)                 325       \n",
            "                                                                 \n",
            "=================================================================\n",
            "Total params: 1,477,509\n",
            "Trainable params: 1,476,773\n",
            "Non-trainable params: 736\n",
            "_________________________________________________________________\n"
          ]
        }
      ],
      "source": [
        "conv_3d_model1 = ModelConv3DBase()\n",
        "conv_3d_model1.initialize_image_properties(image_height=200, image_width=200)\n",
        "conv_3d_model1.initialize_hyperparams(frames_to_sample=16, batch_size=40, num_epochs=2)\n",
        "conv_3d_model1 = conv_3d_model1.define_model()\n",
        "conv_3d_model1.summary()"
      ]
    },
    {
      "cell_type": "markdown",
      "metadata": {
        "id": "YWd7s1vtcAdn"
      },
      "source": [
        "From the above models it is clear that image resolution ( width X height) has the most impact on model training then followed by number of frames"
      ]
    },
    {
      "cell_type": "markdown",
      "metadata": {
        "id": "ZgITE5MdcbZu"
      },
      "source": [
        "### Model with - 20 Frames , batch size 40 & 15 epochs"
      ]
    },
    {
      "cell_type": "code",
      "execution_count": null,
      "metadata": {
        "colab": {
          "base_uri": "https://localhost:8080/"
        },
        "id": "q17vlJlfc_Lv",
        "outputId": "a74c3ab9-7c03-4126-bd8b-6e085bdbd84b"
      },
      "outputs": [
        {
          "output_type": "stream",
          "name": "stdout",
          "text": [
            "Model: \"sequential_5\"\n",
            "_________________________________________________________________\n",
            " Layer (type)                Output Shape              Param #   \n",
            "=================================================================\n",
            " conv3d_20 (Conv3D)          (None, 20, 160, 160, 16)  1312      \n",
            "                                                                 \n",
            " activation_20 (Activation)  (None, 20, 160, 160, 16)  0         \n",
            "                                                                 \n",
            " batch_normalization_30 (Bat  (None, 20, 160, 160, 16)  64       \n",
            " chNormalization)                                                \n",
            "                                                                 \n",
            " max_pooling3d_20 (MaxPoolin  (None, 10, 80, 80, 16)   0         \n",
            " g3D)                                                            \n",
            "                                                                 \n",
            " conv3d_21 (Conv3D)          (None, 10, 80, 80, 32)    13856     \n",
            "                                                                 \n",
            " activation_21 (Activation)  (None, 10, 80, 80, 32)    0         \n",
            "                                                                 \n",
            " batch_normalization_31 (Bat  (None, 10, 80, 80, 32)   128       \n",
            " chNormalization)                                                \n",
            "                                                                 \n",
            " max_pooling3d_21 (MaxPoolin  (None, 5, 40, 40, 32)    0         \n",
            " g3D)                                                            \n",
            "                                                                 \n",
            " conv3d_22 (Conv3D)          (None, 5, 40, 40, 64)     55360     \n",
            "                                                                 \n",
            " activation_22 (Activation)  (None, 5, 40, 40, 64)     0         \n",
            "                                                                 \n",
            " batch_normalization_32 (Bat  (None, 5, 40, 40, 64)    256       \n",
            " chNormalization)                                                \n",
            "                                                                 \n",
            " max_pooling3d_22 (MaxPoolin  (None, 2, 20, 20, 64)    0         \n",
            " g3D)                                                            \n",
            "                                                                 \n",
            " conv3d_23 (Conv3D)          (None, 2, 20, 20, 128)    221312    \n",
            "                                                                 \n",
            " activation_23 (Activation)  (None, 2, 20, 20, 128)    0         \n",
            "                                                                 \n",
            " batch_normalization_33 (Bat  (None, 2, 20, 20, 128)   512       \n",
            " chNormalization)                                                \n",
            "                                                                 \n",
            " max_pooling3d_23 (MaxPoolin  (None, 1, 10, 10, 128)   0         \n",
            " g3D)                                                            \n",
            "                                                                 \n",
            " flatten_5 (Flatten)         (None, 12800)             0         \n",
            "                                                                 \n",
            " dense_15 (Dense)            (None, 64)                819264    \n",
            "                                                                 \n",
            " batch_normalization_34 (Bat  (None, 64)               256       \n",
            " chNormalization)                                                \n",
            "                                                                 \n",
            " dropout_10 (Dropout)        (None, 64)                0         \n",
            "                                                                 \n",
            " dense_16 (Dense)            (None, 64)                4160      \n",
            "                                                                 \n",
            " batch_normalization_35 (Bat  (None, 64)               256       \n",
            " chNormalization)                                                \n",
            "                                                                 \n",
            " dropout_11 (Dropout)        (None, 64)                0         \n",
            "                                                                 \n",
            " dense_17 (Dense)            (None, 5)                 325       \n",
            "                                                                 \n",
            "=================================================================\n",
            "Total params: 1,117,061\n",
            "Trainable params: 1,116,325\n",
            "Non-trainable params: 736\n",
            "_________________________________________________________________\n"
          ]
        }
      ],
      "source": [
        "conv_3d_model2_cls = ModelConv3DBase()\n",
        "conv_3d_model2_cls.initialize_image_properties(image_height=160, image_width=160)\n",
        "conv_3d_model2_cls.initialize_hyperparams(frames_to_sample=20, batch_size=40, num_epochs=15)\n",
        "conv_3d_model2 = conv_3d_model2_cls.define_model()\n",
        "conv_3d_model2.summary()"
      ]
    },
    {
      "cell_type": "code",
      "execution_count": null,
      "metadata": {
        "colab": {
          "base_uri": "https://localhost:8080/"
        },
        "id": "KqvrCuObdT9p",
        "outputId": "77b1d6a7-084c-4511-e8fd-170eac2c51ef"
      },
      "outputs": [
        {
          "output_type": "stream",
          "name": "stdout",
          "text": [
            "Total Params: 1117061\n",
            "WARNING:tensorflow:`period` argument is deprecated. Please use `save_freq` to specify the frequency in number of batches seen.\n",
            "Epoch 1/15\n",
            "17/17 [==============================] - ETA: 0s - loss: 1.5462 - categorical_accuracy: 0.4103  \n",
            "Epoch 1: val_loss improved from inf to 2.27463, saving model to model_init_2022-03-1618_11_49.071111/model-00001-1.54619-0.41026-2.27463-0.16000.h5\n",
            "17/17 [==============================] - 2908s 181s/step - loss: 1.5462 - categorical_accuracy: 0.4103 - val_loss: 2.2746 - val_categorical_accuracy: 0.1600 - lr: 0.0010\n",
            "Epoch 2/15\n",
            "17/17 [==============================] - ETA: 0s - loss: 0.8737 - categorical_accuracy: 0.6606\n",
            "Epoch 2: val_loss did not improve from 2.27463\n",
            "17/17 [==============================] - 71s 4s/step - loss: 0.8737 - categorical_accuracy: 0.6606 - val_loss: 2.5479 - val_categorical_accuracy: 0.1800 - lr: 0.0010\n",
            "Epoch 3/15\n",
            "17/17 [==============================] - ETA: 0s - loss: 0.6662 - categorical_accuracy: 0.7572\n",
            "Epoch 3: val_loss did not improve from 2.27463\n",
            "17/17 [==============================] - 75s 5s/step - loss: 0.6662 - categorical_accuracy: 0.7572 - val_loss: 3.9075 - val_categorical_accuracy: 0.1100 - lr: 0.0010\n",
            "Epoch 4/15\n",
            "17/17 [==============================] - ETA: 0s - loss: 0.4637 - categorical_accuracy: 0.8401\n",
            "Epoch 4: val_loss did not improve from 2.27463\n",
            "17/17 [==============================] - 71s 4s/step - loss: 0.4637 - categorical_accuracy: 0.8401 - val_loss: 3.9827 - val_categorical_accuracy: 0.1600 - lr: 0.0010\n",
            "Epoch 5/15\n",
            "17/17 [==============================] - ETA: 0s - loss: 0.3478 - categorical_accuracy: 0.8899\n",
            "Epoch 5: val_loss did not improve from 2.27463\n",
            "\n",
            "Epoch 5: ReduceLROnPlateau reducing learning rate to 0.00020000000949949026.\n",
            "17/17 [==============================] - 72s 4s/step - loss: 0.3478 - categorical_accuracy: 0.8899 - val_loss: 4.5115 - val_categorical_accuracy: 0.1600 - lr: 0.0010\n",
            "Epoch 6/15\n",
            "17/17 [==============================] - ETA: 0s - loss: 0.2431 - categorical_accuracy: 0.9261\n",
            "Epoch 6: val_loss did not improve from 2.27463\n",
            "17/17 [==============================] - 74s 5s/step - loss: 0.2431 - categorical_accuracy: 0.9261 - val_loss: 4.7747 - val_categorical_accuracy: 0.1500 - lr: 2.0000e-04\n",
            "Epoch 7/15\n",
            "17/17 [==============================] - ETA: 0s - loss: 0.1963 - categorical_accuracy: 0.9442\n",
            "Epoch 7: val_loss did not improve from 2.27463\n",
            "17/17 [==============================] - 75s 5s/step - loss: 0.1963 - categorical_accuracy: 0.9442 - val_loss: 5.0629 - val_categorical_accuracy: 0.1600 - lr: 2.0000e-04\n",
            "Epoch 8/15\n",
            "17/17 [==============================] - ETA: 0s - loss: 0.1680 - categorical_accuracy: 0.9668\n",
            "Epoch 8: val_loss did not improve from 2.27463\n",
            "17/17 [==============================] - 77s 5s/step - loss: 0.1680 - categorical_accuracy: 0.9668 - val_loss: 5.7093 - val_categorical_accuracy: 0.1400 - lr: 2.0000e-04\n",
            "Epoch 9/15\n",
            "17/17 [==============================] - ETA: 0s - loss: 0.1560 - categorical_accuracy: 0.9623\n",
            "Epoch 9: val_loss did not improve from 2.27463\n",
            "\n",
            "Epoch 9: ReduceLROnPlateau reducing learning rate to 4.0000001899898055e-05.\n",
            "17/17 [==============================] - 75s 5s/step - loss: 0.1560 - categorical_accuracy: 0.9623 - val_loss: 5.0203 - val_categorical_accuracy: 0.1900 - lr: 2.0000e-04\n",
            "Epoch 10/15\n",
            "17/17 [==============================] - ETA: 0s - loss: 0.1523 - categorical_accuracy: 0.9698\n",
            "Epoch 10: val_loss did not improve from 2.27463\n",
            "17/17 [==============================] - 76s 5s/step - loss: 0.1523 - categorical_accuracy: 0.9698 - val_loss: 5.3105 - val_categorical_accuracy: 0.1600 - lr: 4.0000e-05\n",
            "Epoch 11/15\n",
            "17/17 [==============================] - ETA: 0s - loss: 0.1169 - categorical_accuracy: 0.9834\n",
            "Epoch 11: val_loss did not improve from 2.27463\n",
            "17/17 [==============================] - 78s 5s/step - loss: 0.1169 - categorical_accuracy: 0.9834 - val_loss: 5.3897 - val_categorical_accuracy: 0.1700 - lr: 4.0000e-05\n",
            "Epoch 11: early stopping\n"
          ]
        }
      ],
      "source": [
        "print(\"Total Params:\", conv_3d_model2.count_params())\n",
        "history_model1 = conv_3d_model2_cls.train_model(conv_3d_model2)"
      ]
    },
    {
      "cell_type": "code",
      "execution_count": null,
      "metadata": {
        "id": "3JmpyMv2KUJy",
        "colab": {
          "base_uri": "https://localhost:8080/",
          "height": 262
        },
        "outputId": "ee95fdbd-3af4-4425-faa0-bf63a9753369"
      },
      "outputs": [
        {
          "output_type": "display_data",
          "data": {
            "text/plain": [
              "<Figure size 1080x288 with 2 Axes>"
            ],
            "image/png": "[encoded data removed]"
          },
          "metadata": {
            "needs_background": "light"
          }
        }
      ],
      "source": [
        "plot(history_model1)\n"
      ]
    },
    {
      "cell_type": "markdown",
      "metadata": {
        "id": "Ixx9vyhzg20T"
      },
      "source": [
        "**Analyzing Learning curves**\n",
        "A plot of learning curves shows overfitting:\n",
        "\n",
        "- The plot of training loss continues to decrease with experience.\n",
        "- The plot of validation loss is increasing .\n",
        "- Also the validation accuracy is low - 17%\n",
        "- Training accuracy is 98%\n",
        "The learning curve shows overfitting"
      ]
    },
    {
      "cell_type": "markdown",
      "metadata": {
        "id": "qHM7tpB-hcCl"
      },
      "source": [
        "## Model 2\n",
        "Use Model with updated hyperparams\n",
        "Adding dropout layers - Batch Size = 20 and No. of Epochs = 25\n"
      ]
    },
    {
      "cell_type": "code",
      "execution_count": null,
      "metadata": {
        "id": "B5AgLc9XhtIe",
        "colab": {
          "base_uri": "https://localhost:8080/"
        },
        "outputId": "085501f1-2af8-43ab-e952-1b8849defb25"
      },
      "outputs": [
        {
          "output_type": "stream",
          "name": "stdout",
          "text": [
            "Model: \"sequential_6\"\n",
            "_________________________________________________________________\n",
            " Layer (type)                Output Shape              Param #   \n",
            "=================================================================\n",
            " conv3d_24 (Conv3D)          (None, 20, 160, 160, 16)  1312      \n",
            "                                                                 \n",
            " activation_24 (Activation)  (None, 20, 160, 160, 16)  0         \n",
            "                                                                 \n",
            " batch_normalization_36 (Bat  (None, 20, 160, 160, 16)  64       \n",
            " chNormalization)                                                \n",
            "                                                                 \n",
            " max_pooling3d_24 (MaxPoolin  (None, 10, 80, 80, 16)   0         \n",
            " g3D)                                                            \n",
            "                                                                 \n",
            " conv3d_25 (Conv3D)          (None, 10, 80, 80, 32)    13856     \n",
            "                                                                 \n",
            " activation_25 (Activation)  (None, 10, 80, 80, 32)    0         \n",
            "                                                                 \n",
            " batch_normalization_37 (Bat  (None, 10, 80, 80, 32)   128       \n",
            " chNormalization)                                                \n",
            "                                                                 \n",
            " max_pooling3d_25 (MaxPoolin  (None, 5, 40, 40, 32)    0         \n",
            " g3D)                                                            \n",
            "                                                                 \n",
            " conv3d_26 (Conv3D)          (None, 5, 40, 40, 64)     55360     \n",
            "                                                                 \n",
            " activation_26 (Activation)  (None, 5, 40, 40, 64)     0         \n",
            "                                                                 \n",
            " batch_normalization_38 (Bat  (None, 5, 40, 40, 64)    256       \n",
            " chNormalization)                                                \n",
            "                                                                 \n",
            " max_pooling3d_26 (MaxPoolin  (None, 2, 20, 20, 64)    0         \n",
            " g3D)                                                            \n",
            "                                                                 \n",
            " conv3d_27 (Conv3D)          (None, 2, 20, 20, 128)    221312    \n",
            "                                                                 \n",
            " activation_27 (Activation)  (None, 2, 20, 20, 128)    0         \n",
            "                                                                 \n",
            " batch_normalization_39 (Bat  (None, 2, 20, 20, 128)   512       \n",
            " chNormalization)                                                \n",
            "                                                                 \n",
            " max_pooling3d_27 (MaxPoolin  (None, 1, 10, 10, 128)   0         \n",
            " g3D)                                                            \n",
            "                                                                 \n",
            " flatten_6 (Flatten)         (None, 12800)             0         \n",
            "                                                                 \n",
            " dense_18 (Dense)            (None, 256)               3277056   \n",
            "                                                                 \n",
            " batch_normalization_40 (Bat  (None, 256)              1024      \n",
            " chNormalization)                                                \n",
            "                                                                 \n",
            " dropout_12 (Dropout)        (None, 256)               0         \n",
            "                                                                 \n",
            " dense_19 (Dense)            (None, 256)               65792     \n",
            "                                                                 \n",
            " batch_normalization_41 (Bat  (None, 256)              1024      \n",
            " chNormalization)                                                \n",
            "                                                                 \n",
            " dropout_13 (Dropout)        (None, 256)               0         \n",
            "                                                                 \n",
            " dense_20 (Dense)            (None, 5)                 1285      \n",
            "                                                                 \n",
            "=================================================================\n",
            "Total params: 3,638,981\n",
            "Trainable params: 3,637,477\n",
            "Non-trainable params: 1,504\n",
            "_________________________________________________________________\n"
          ]
        }
      ],
      "source": [
        "conv_3d_model2_cls = ModelConv3DBase()\n",
        "conv_3d_model2_cls.initialize_image_properties(image_height=160, image_width=160)\n",
        "conv_3d_model2_cls.initialize_hyperparams(frames_to_sample=20, batch_size=20, num_epochs=25)\n",
        "conv_3d_model2 = conv_3d_model2_cls.define_model(dense_neurons=256,dropout=0.5)\n",
        "conv_3d_model2.summary()"
      ]
    },
    {
      "cell_type": "code",
      "execution_count": null,
      "metadata": {
        "id": "tAo0bEJpiGQ_",
        "colab": {
          "base_uri": "https://localhost:8080/"
        },
        "outputId": "62b5bdd1-0b29-436a-ba8b-56bb36b1b43f"
      },
      "outputs": [
        {
          "output_type": "stream",
          "name": "stdout",
          "text": [
            "Total Params: 3638981\n",
            "WARNING:tensorflow:`period` argument is deprecated. Please use `save_freq` to specify the frequency in number of batches seen.\n",
            "Epoch 1/25\n",
            "34/34 [==============================] - ETA: 0s - loss: 1.9840 - categorical_accuracy: 0.3635\n",
            "Epoch 1: val_loss improved from inf to 4.98114, saving model to model_init_2022-03-1619_12_45.274704/model-00001-1.98397-0.36350-4.98114-0.21000.h5\n",
            "34/34 [==============================] - 73s 2s/step - loss: 1.9840 - categorical_accuracy: 0.3635 - val_loss: 4.9811 - val_categorical_accuracy: 0.2100 - lr: 0.0010\n",
            "Epoch 2/25\n",
            "34/34 [==============================] - ETA: 0s - loss: 1.3865 - categorical_accuracy: 0.5143\n",
            "Epoch 2: val_loss did not improve from 4.98114\n",
            "34/34 [==============================] - 70s 2s/step - loss: 1.3865 - categorical_accuracy: 0.5143 - val_loss: 6.2147 - val_categorical_accuracy: 0.2800 - lr: 0.0010\n",
            "Epoch 3/25\n",
            "34/34 [==============================] - ETA: 0s - loss: 0.9819 - categorical_accuracy: 0.6440\n",
            "Epoch 3: val_loss did not improve from 4.98114\n",
            "34/34 [==============================] - 70s 2s/step - loss: 0.9819 - categorical_accuracy: 0.6440 - val_loss: 6.6552 - val_categorical_accuracy: 0.2700 - lr: 0.0010\n",
            "Epoch 4/25\n",
            "34/34 [==============================] - ETA: 0s - loss: 0.8760 - categorical_accuracy: 0.6787\n",
            "Epoch 4: val_loss did not improve from 4.98114\n",
            "34/34 [==============================] - 69s 2s/step - loss: 0.8760 - categorical_accuracy: 0.6787 - val_loss: 8.1973 - val_categorical_accuracy: 0.1900 - lr: 0.0010\n",
            "Epoch 5/25\n",
            "34/34 [==============================] - ETA: 0s - loss: 0.7376 - categorical_accuracy: 0.7421\n",
            "Epoch 5: val_loss did not improve from 4.98114\n",
            "\n",
            "Epoch 5: ReduceLROnPlateau reducing learning rate to 0.00020000000949949026.\n",
            "34/34 [==============================] - 70s 2s/step - loss: 0.7376 - categorical_accuracy: 0.7421 - val_loss: 6.5633 - val_categorical_accuracy: 0.1900 - lr: 0.0010\n",
            "Epoch 6/25\n",
            "34/34 [==============================] - ETA: 0s - loss: 0.4873 - categorical_accuracy: 0.8326\n",
            "Epoch 6: val_loss did not improve from 4.98114\n",
            "34/34 [==============================] - 70s 2s/step - loss: 0.4873 - categorical_accuracy: 0.8326 - val_loss: 6.1446 - val_categorical_accuracy: 0.3100 - lr: 2.0000e-04\n",
            "Epoch 7/25\n",
            "34/34 [==============================] - ETA: 0s - loss: 0.3858 - categorical_accuracy: 0.8522\n",
            "Epoch 7: val_loss did not improve from 4.98114\n",
            "34/34 [==============================] - 69s 2s/step - loss: 0.3858 - categorical_accuracy: 0.8522 - val_loss: 5.9827 - val_categorical_accuracy: 0.3000 - lr: 2.0000e-04\n",
            "Epoch 8/25\n",
            "34/34 [==============================] - ETA: 0s - loss: 0.3917 - categorical_accuracy: 0.8612\n",
            "Epoch 8: val_loss did not improve from 4.98114\n",
            "34/34 [==============================] - 70s 2s/step - loss: 0.3917 - categorical_accuracy: 0.8612 - val_loss: 5.5699 - val_categorical_accuracy: 0.3000 - lr: 2.0000e-04\n",
            "Epoch 9/25\n",
            "34/34 [==============================] - ETA: 0s - loss: 0.3635 - categorical_accuracy: 0.8748\n",
            "Epoch 9: val_loss did not improve from 4.98114\n",
            "\n",
            "Epoch 9: ReduceLROnPlateau reducing learning rate to 4.0000001899898055e-05.\n",
            "34/34 [==============================] - 69s 2s/step - loss: 0.3635 - categorical_accuracy: 0.8748 - val_loss: 5.6230 - val_categorical_accuracy: 0.3200 - lr: 2.0000e-04\n",
            "Epoch 10/25\n",
            "34/34 [==============================] - ETA: 0s - loss: 0.3270 - categorical_accuracy: 0.8703\n",
            "Epoch 10: val_loss did not improve from 4.98114\n",
            "34/34 [==============================] - 69s 2s/step - loss: 0.3270 - categorical_accuracy: 0.8703 - val_loss: 5.2658 - val_categorical_accuracy: 0.2600 - lr: 4.0000e-05\n",
            "Epoch 11/25\n",
            "34/34 [==============================] - ETA: 0s - loss: 0.3090 - categorical_accuracy: 0.8778\n",
            "Epoch 11: val_loss improved from 4.98114 to 4.28137, saving model to model_init_2022-03-1619_12_45.274704/model-00011-0.30898-0.87783-4.28137-0.34000.h5\n",
            "34/34 [==============================] - 70s 2s/step - loss: 0.3090 - categorical_accuracy: 0.8778 - val_loss: 4.2814 - val_categorical_accuracy: 0.3400 - lr: 4.0000e-05\n",
            "Epoch 12/25\n",
            "34/34 [==============================] - ETA: 0s - loss: 0.2739 - categorical_accuracy: 0.8959\n",
            "Epoch 12: val_loss improved from 4.28137 to 3.41603, saving model to model_init_2022-03-1619_12_45.274704/model-00012-0.27388-0.89593-3.41603-0.37000.h5\n",
            "34/34 [==============================] - 69s 2s/step - loss: 0.2739 - categorical_accuracy: 0.8959 - val_loss: 3.4160 - val_categorical_accuracy: 0.3700 - lr: 4.0000e-05\n",
            "Epoch 13/25\n",
            "34/34 [==============================] - ETA: 0s - loss: 0.3243 - categorical_accuracy: 0.8824\n",
            "Epoch 13: val_loss improved from 3.41603 to 3.08516, saving model to model_init_2022-03-1619_12_45.274704/model-00013-0.32428-0.88235-3.08516-0.41000.h5\n",
            "34/34 [==============================] - 69s 2s/step - loss: 0.3243 - categorical_accuracy: 0.8824 - val_loss: 3.0852 - val_categorical_accuracy: 0.4100 - lr: 4.0000e-05\n",
            "Epoch 14/25\n",
            "34/34 [==============================] - ETA: 0s - loss: 0.3092 - categorical_accuracy: 0.8899\n",
            "Epoch 14: val_loss improved from 3.08516 to 2.25939, saving model to model_init_2022-03-1619_12_45.274704/model-00014-0.30921-0.88989-2.25939-0.46000.h5\n",
            "34/34 [==============================] - 70s 2s/step - loss: 0.3092 - categorical_accuracy: 0.8899 - val_loss: 2.2594 - val_categorical_accuracy: 0.4600 - lr: 4.0000e-05\n",
            "Epoch 15/25\n",
            "34/34 [==============================] - ETA: 0s - loss: 0.2664 - categorical_accuracy: 0.8869\n",
            "Epoch 15: val_loss did not improve from 2.25939\n",
            "34/34 [==============================] - 70s 2s/step - loss: 0.2664 - categorical_accuracy: 0.8869 - val_loss: 2.3323 - val_categorical_accuracy: 0.4800 - lr: 4.0000e-05\n",
            "Epoch 16/25\n",
            "34/34 [==============================] - ETA: 0s - loss: 0.3072 - categorical_accuracy: 0.8989\n",
            "Epoch 16: val_loss improved from 2.25939 to 1.60670, saving model to model_init_2022-03-1619_12_45.274704/model-00016-0.30724-0.89894-1.60670-0.57000.h5\n",
            "34/34 [==============================] - 69s 2s/step - loss: 0.3072 - categorical_accuracy: 0.8989 - val_loss: 1.6067 - val_categorical_accuracy: 0.5700 - lr: 4.0000e-05\n",
            "Epoch 17/25\n",
            "34/34 [==============================] - ETA: 0s - loss: 0.2527 - categorical_accuracy: 0.9080\n",
            "Epoch 17: val_loss improved from 1.60670 to 1.20018, saving model to model_init_2022-03-1619_12_45.274704/model-00017-0.25274-0.90799-1.20018-0.62000.h5\n",
            "34/34 [==============================] - 69s 2s/step - loss: 0.2527 - categorical_accuracy: 0.9080 - val_loss: 1.2002 - val_categorical_accuracy: 0.6200 - lr: 4.0000e-05\n",
            "Epoch 18/25\n",
            "34/34 [==============================] - ETA: 0s - loss: 0.2388 - categorical_accuracy: 0.9110\n",
            "Epoch 18: val_loss improved from 1.20018 to 1.05891, saving model to model_init_2022-03-1619_12_45.274704/model-00018-0.23877-0.91101-1.05891-0.65000.h5\n",
            "34/34 [==============================] - 69s 2s/step - loss: 0.2388 - categorical_accuracy: 0.9110 - val_loss: 1.0589 - val_categorical_accuracy: 0.6500 - lr: 4.0000e-05\n",
            "Epoch 19/25\n",
            "34/34 [==============================] - ETA: 0s - loss: 0.2413 - categorical_accuracy: 0.9140\n",
            "Epoch 19: val_loss improved from 1.05891 to 0.47967, saving model to model_init_2022-03-1619_12_45.274704/model-00019-0.24135-0.91403-0.47967-0.82000.h5\n",
            "34/34 [==============================] - 69s 2s/step - loss: 0.2413 - categorical_accuracy: 0.9140 - val_loss: 0.4797 - val_categorical_accuracy: 0.8200 - lr: 4.0000e-05\n",
            "Epoch 20/25\n",
            "34/34 [==============================] - ETA: 0s - loss: 0.2169 - categorical_accuracy: 0.9231\n",
            "Epoch 20: val_loss did not improve from 0.47967\n",
            "34/34 [==============================] - 69s 2s/step - loss: 0.2169 - categorical_accuracy: 0.9231 - val_loss: 0.5334 - val_categorical_accuracy: 0.7800 - lr: 4.0000e-05\n",
            "Epoch 21/25\n",
            "34/34 [==============================] - ETA: 0s - loss: 0.2728 - categorical_accuracy: 0.9095\n",
            "Epoch 21: val_loss improved from 0.47967 to 0.46810, saving model to model_init_2022-03-1619_12_45.274704/model-00021-0.27275-0.90950-0.46810-0.84000.h5\n",
            "34/34 [==============================] - 69s 2s/step - loss: 0.2728 - categorical_accuracy: 0.9095 - val_loss: 0.4681 - val_categorical_accuracy: 0.8400 - lr: 4.0000e-05\n",
            "Epoch 22/25\n",
            "34/34 [==============================] - ETA: 0s - loss: 0.1940 - categorical_accuracy: 0.9321\n",
            "Epoch 22: val_loss did not improve from 0.46810\n",
            "34/34 [==============================] - 69s 2s/step - loss: 0.1940 - categorical_accuracy: 0.9321 - val_loss: 0.5237 - val_categorical_accuracy: 0.8400 - lr: 4.0000e-05\n",
            "Epoch 23/25\n",
            "34/34 [==============================] - ETA: 0s - loss: 0.2074 - categorical_accuracy: 0.9216\n",
            "Epoch 23: val_loss improved from 0.46810 to 0.44300, saving model to model_init_2022-03-1619_12_45.274704/model-00023-0.20744-0.92157-0.44300-0.83000.h5\n",
            "34/34 [==============================] - 68s 2s/step - loss: 0.2074 - categorical_accuracy: 0.9216 - val_loss: 0.4430 - val_categorical_accuracy: 0.8300 - lr: 4.0000e-05\n",
            "Epoch 24/25\n",
            "34/34 [==============================] - ETA: 0s - loss: 0.2096 - categorical_accuracy: 0.9155\n",
            "Epoch 24: val_loss improved from 0.44300 to 0.29511, saving model to model_init_2022-03-1619_12_45.274704/model-00024-0.20962-0.91554-0.29511-0.92000.h5\n",
            "34/34 [==============================] - 70s 2s/step - loss: 0.2096 - categorical_accuracy: 0.9155 - val_loss: 0.2951 - val_categorical_accuracy: 0.9200 - lr: 4.0000e-05\n",
            "Epoch 25/25\n",
            "34/34 [==============================] - ETA: 0s - loss: 0.1948 - categorical_accuracy: 0.9412\n",
            "Epoch 25: val_loss improved from 0.29511 to 0.21985, saving model to model_init_2022-03-1619_12_45.274704/model-00025-0.19480-0.94118-0.21985-0.91000.h5\n",
            "34/34 [==============================] - 69s 2s/step - loss: 0.1948 - categorical_accuracy: 0.9412 - val_loss: 0.2199 - val_categorical_accuracy: 0.9100 - lr: 4.0000e-05\n"
          ]
        }
      ],
      "source": [
        "print(\"Total Params:\", conv_3d_model2.count_params())\n",
        "history_model2 = conv_3d_model2_cls.train_model(conv_3d_model2)"
      ]
    },
    {
      "cell_type": "code",
      "execution_count": null,
      "metadata": {
        "id": "AVtw3_VAnDwx",
        "colab": {
          "base_uri": "https://localhost:8080/",
          "height": 262
        },
        "outputId": "78909c0c-310a-4f97-c1ba-79f65c7eea37"
      },
      "outputs": [
        {
          "output_type": "display_data",
          "data": {
            "text/plain": [
              "<Figure size 1080x288 with 2 Axes>"
            ],
            "image/png": "[encoded data removed]"
          },
          "metadata": {
            "needs_background": "light"
          }
        }
      ],
      "source": [
        "plot(history_model2)\n"
      ]
    },
    {
      "cell_type": "markdown",
      "metadata": {
        "id": "grX3FmO6tuZy"
      },
      "source": [
        "Analysing the visualization for second model ,\n",
        "- Validation loss has decreased greatly to 3%, it decreased with experience\n",
        "- Training loss is decreasing with experience\n",
        "- Validation accuracy is 91% and training accuracy is close to 94%\n",
        "\n"
      ]
    },
    {
      "cell_type": "markdown",
      "metadata": {
        "id": "lE2eO5a-uU3r"
      },
      "source": [
        "## Model 3\n",
        "Reduce filter size to (2,2,2) and image res to 120 x 120, - Batch Size = 30 and No. of Epochs = 25"
      ]
    },
    {
      "cell_type": "code",
      "execution_count": null,
      "metadata": {
        "id": "MAjqy0y1upoQ"
      },
      "outputs": [],
      "source": [
        "from tensorflow.keras.optimizers import Adam\n",
        "class ModelConv3DType3(ModelBuilder):\n",
        "\n",
        "    def define_model(self,filtersize=(3,3,3),dense_neurons=64,dropout=0.25):\n",
        "\n",
        "        model = Sequential()\n",
        "        model.add(Conv3D(16, filtersize, padding='same',\n",
        "                 input_shape=(self.frames_to_sample,self.image_height,self.image_width,self.channels)))\n",
        "        model.add(Activation('relu'))\n",
        "        model.add(BatchNormalization())\n",
        "        model.add(MaxPooling3D(pool_size=(2, 2, 2)))\n",
        "\n",
        "        model.add(Conv3D(32, filtersize, padding='same'))\n",
        "        model.add(Activation('relu'))\n",
        "        model.add(BatchNormalization())\n",
        "        model.add(MaxPooling3D(pool_size=(2, 2, 2)))\n",
        "\n",
        "        model.add(Conv3D(64, filtersize, padding='same'))\n",
        "        model.add(Activation('relu'))\n",
        "        model.add(BatchNormalization())\n",
        "        model.add(MaxPooling3D(pool_size=(2, 2, 2)))\n",
        "\n",
        "        model.add(Conv3D(128, filtersize, padding='same'))\n",
        "        model.add(Activation('relu'))\n",
        "        model.add(BatchNormalization())\n",
        "        model.add(MaxPooling3D(pool_size=(2, 2, 2)))\n",
        "\n",
        "        model.add(Flatten())\n",
        "        model.add(Dense(dense_neurons,activation='relu'))\n",
        "        model.add(BatchNormalization())\n",
        "        model.add(Dropout(dropout))\n",
        "\n",
        "        model.add(Dense(dense_neurons,activation='relu'))\n",
        "        model.add(BatchNormalization())\n",
        "        model.add(Dropout(dropout))\n",
        "\n",
        "\n",
        "        model.add(Dense(self.num_classes,activation='softmax'))\n",
        "\n",
        "        optimiser = Adam(lr=0.0002)\n",
        "        model.compile(optimizer='adam', loss='categorical_crossentropy', metrics=['categorical_accuracy'])\n",
        "        return model"
      ]
    },
    {
      "cell_type": "code",
      "execution_count": null,
      "metadata": {
        "id": "_dIFCgFnwKXc",
        "colab": {
          "base_uri": "https://localhost:8080/"
        },
        "outputId": "15db6485-696b-49e6-a515-8edcc55b38bc"
      },
      "outputs": [
        {
          "output_type": "stream",
          "name": "stdout",
          "text": [
            "Model: \"sequential_7\"\n",
            "_________________________________________________________________\n",
            " Layer (type)                Output Shape              Param #   \n",
            "=================================================================\n",
            " conv3d_28 (Conv3D)          (None, 16, 120, 120, 16)  400       \n",
            "                                                                 \n",
            " activation_28 (Activation)  (None, 16, 120, 120, 16)  0         \n",
            "                                                                 \n",
            " batch_normalization_42 (Bat  (None, 16, 120, 120, 16)  64       \n",
            " chNormalization)                                                \n",
            "                                                                 \n",
            " max_pooling3d_28 (MaxPoolin  (None, 8, 60, 60, 16)    0         \n",
            " g3D)                                                            \n",
            "                                                                 \n",
            " conv3d_29 (Conv3D)          (None, 8, 60, 60, 32)     4128      \n",
            "                                                                 \n",
            " activation_29 (Activation)  (None, 8, 60, 60, 32)     0         \n",
            "                                                                 \n",
            " batch_normalization_43 (Bat  (None, 8, 60, 60, 32)    128       \n",
            " chNormalization)                                                \n",
            "                                                                 \n",
            " max_pooling3d_29 (MaxPoolin  (None, 4, 30, 30, 32)    0         \n",
            " g3D)                                                            \n",
            "                                                                 \n",
            " conv3d_30 (Conv3D)          (None, 4, 30, 30, 64)     16448     \n",
            "                                                                 \n",
            " activation_30 (Activation)  (None, 4, 30, 30, 64)     0         \n",
            "                                                                 \n",
            " batch_normalization_44 (Bat  (None, 4, 30, 30, 64)    256       \n",
            " chNormalization)                                                \n",
            "                                                                 \n",
            " max_pooling3d_30 (MaxPoolin  (None, 2, 15, 15, 64)    0         \n",
            " g3D)                                                            \n",
            "                                                                 \n",
            " conv3d_31 (Conv3D)          (None, 2, 15, 15, 128)    65664     \n",
            "                                                                 \n",
            " activation_31 (Activation)  (None, 2, 15, 15, 128)    0         \n",
            "                                                                 \n",
            " batch_normalization_45 (Bat  (None, 2, 15, 15, 128)   512       \n",
            " chNormalization)                                                \n",
            "                                                                 \n",
            " max_pooling3d_31 (MaxPoolin  (None, 1, 7, 7, 128)     0         \n",
            " g3D)                                                            \n",
            "                                                                 \n",
            " flatten_7 (Flatten)         (None, 6272)              0         \n",
            "                                                                 \n",
            " dense_21 (Dense)            (None, 256)               1605888   \n",
            "                                                                 \n",
            " batch_normalization_46 (Bat  (None, 256)              1024      \n",
            " chNormalization)                                                \n",
            "                                                                 \n",
            " dropout_14 (Dropout)        (None, 256)               0         \n",
            "                                                                 \n",
            " dense_22 (Dense)            (None, 256)               65792     \n",
            "                                                                 \n",
            " batch_normalization_47 (Bat  (None, 256)              1024      \n",
            " chNormalization)                                                \n",
            "                                                                 \n",
            " dropout_15 (Dropout)        (None, 256)               0         \n",
            "                                                                 \n",
            " dense_23 (Dense)            (None, 5)                 1285      \n",
            "                                                                 \n",
            "=================================================================\n",
            "Total params: 1,762,613\n",
            "Trainable params: 1,761,109\n",
            "Non-trainable params: 1,504\n",
            "_________________________________________________________________\n"
          ]
        }
      ],
      "source": [
        "conv_3d_model3_cls = ModelConv3DType3()\n",
        "conv_3d_model3_cls.initialize_image_properties(image_height=120, image_width=120)\n",
        "conv_3d_model3_cls.initialize_hyperparams(frames_to_sample=16, batch_size=30, num_epochs=25)\n",
        "conv_3d_model3 = conv_3d_model3_cls.define_model(filtersize=(2,2,2), dense_neurons=256,dropout=0.5)\n",
        "conv_3d_model3.summary()"
      ]
    },
    {
      "cell_type": "code",
      "execution_count": null,
      "metadata": {
        "id": "JJwL0t55w735",
        "colab": {
          "base_uri": "https://localhost:8080/"
        },
        "outputId": "549b7f76-c66a-4e3d-f4b2-dfc80e13adef"
      },
      "outputs": [
        {
          "output_type": "stream",
          "name": "stdout",
          "text": [
            "Total Params: 1762613\n",
            "WARNING:tensorflow:`period` argument is deprecated. Please use `save_freq` to specify the frequency in number of batches seen.\n",
            "Epoch 1/25\n",
            "23/23 [==============================] - ETA: 0s - loss: 1.7417 - categorical_accuracy: 0.4374 \n",
            "Epoch 1: val_loss improved from inf to 2.97613, saving model to model_init_2022-03-1619_41_47.316824/model-00001-1.74169-0.43741-2.97613-0.16000.h5\n",
            "23/23 [==============================] - 951s 43s/step - loss: 1.7417 - categorical_accuracy: 0.4374 - val_loss: 2.9761 - val_categorical_accuracy: 0.1600 - lr: 0.0010\n",
            "Epoch 2/25\n",
            "23/23 [==============================] - ETA: 0s - loss: 1.0397 - categorical_accuracy: 0.6063\n",
            "Epoch 2: val_loss did not improve from 2.97613\n",
            "23/23 [==============================] - 50s 2s/step - loss: 1.0397 - categorical_accuracy: 0.6063 - val_loss: 4.2445 - val_categorical_accuracy: 0.1900 - lr: 0.0010\n",
            "Epoch 3/25\n",
            "22/23 [===========================>..] - ETA: 1s - loss: 0.8449 - categorical_accuracy: 0.6803\n",
            "Epoch 3: val_loss did not improve from 2.97613\n",
            "23/23 [==============================] - 52s 2s/step - loss: 0.8554 - categorical_accuracy: 0.6787 - val_loss: 6.5034 - val_categorical_accuracy: 0.2000 - lr: 0.0010\n",
            "Epoch 4/25\n",
            "23/23 [==============================] - ETA: 0s - loss: 0.7196 - categorical_accuracy: 0.7360\n",
            "Epoch 4: val_loss did not improve from 2.97613\n",
            "23/23 [==============================] - 50s 2s/step - loss: 0.7196 - categorical_accuracy: 0.7360 - val_loss: 9.0663 - val_categorical_accuracy: 0.1400 - lr: 0.0010\n",
            "Epoch 5/25\n",
            "22/23 [===========================>..] - ETA: 1s - loss: 0.5953 - categorical_accuracy: 0.7636\n",
            "Epoch 5: val_loss did not improve from 2.97613\n",
            "\n",
            "Epoch 5: ReduceLROnPlateau reducing learning rate to 0.00020000000949949026.\n",
            "23/23 [==============================] - 51s 2s/step - loss: 0.6133 - categorical_accuracy: 0.7617 - val_loss: 10.2243 - val_categorical_accuracy: 0.1600 - lr: 0.0010\n",
            "Epoch 6/25\n",
            "23/23 [==============================] - ETA: 0s - loss: 0.3451 - categorical_accuracy: 0.8703\n",
            "Epoch 6: val_loss did not improve from 2.97613\n",
            "23/23 [==============================] - 51s 2s/step - loss: 0.3451 - categorical_accuracy: 0.8703 - val_loss: 11.6988 - val_categorical_accuracy: 0.1500 - lr: 2.0000e-04\n",
            "Epoch 7/25\n",
            "23/23 [==============================] - ETA: 0s - loss: 0.3337 - categorical_accuracy: 0.8824\n",
            "Epoch 7: val_loss did not improve from 2.97613\n",
            "23/23 [==============================] - 51s 2s/step - loss: 0.3337 - categorical_accuracy: 0.8824 - val_loss: 12.0835 - val_categorical_accuracy: 0.1700 - lr: 2.0000e-04\n",
            "Epoch 8/25\n",
            "22/23 [===========================>..] - ETA: 1s - loss: 0.2865 - categorical_accuracy: 0.9015\n",
            "Epoch 8: val_loss did not improve from 2.97613\n",
            "23/23 [==============================] - 50s 2s/step - loss: 0.2854 - categorical_accuracy: 0.9020 - val_loss: 13.1530 - val_categorical_accuracy: 0.1800 - lr: 2.0000e-04\n",
            "Epoch 9/25\n",
            "23/23 [==============================] - ETA: 0s - loss: 0.3064 - categorical_accuracy: 0.8899\n",
            "Epoch 9: val_loss did not improve from 2.97613\n",
            "\n",
            "Epoch 9: ReduceLROnPlateau reducing learning rate to 4.0000001899898055e-05.\n",
            "23/23 [==============================] - 51s 2s/step - loss: 0.3064 - categorical_accuracy: 0.8899 - val_loss: 14.1878 - val_categorical_accuracy: 0.1600 - lr: 2.0000e-04\n",
            "Epoch 10/25\n",
            "23/23 [==============================] - ETA: 0s - loss: 0.2493 - categorical_accuracy: 0.9080\n",
            "Epoch 10: val_loss did not improve from 2.97613\n",
            "23/23 [==============================] - 51s 2s/step - loss: 0.2493 - categorical_accuracy: 0.9080 - val_loss: 12.8499 - val_categorical_accuracy: 0.2000 - lr: 4.0000e-05\n",
            "Epoch 11/25\n",
            "22/23 [===========================>..] - ETA: 1s - loss: 0.2160 - categorical_accuracy: 0.9182\n",
            "Epoch 11: val_loss did not improve from 2.97613\n",
            "23/23 [==============================] - 52s 2s/step - loss: 0.2156 - categorical_accuracy: 0.9186 - val_loss: 13.0539 - val_categorical_accuracy: 0.1300 - lr: 4.0000e-05\n",
            "Epoch 11: early stopping\n"
          ]
        }
      ],
      "source": [
        "print(\"Total Params:\", conv_3d_model3.count_params())\n",
        "history_model3 = conv_3d_model3_cls.train_model(conv_3d_model3)"
      ]
    },
    {
      "cell_type": "code",
      "execution_count": null,
      "metadata": {
        "id": "oInj8FrC_yOJ",
        "colab": {
          "base_uri": "https://localhost:8080/",
          "height": 261
        },
        "outputId": "cd4aab23-3182-4f7f-fe37-0d3b232c86b1"
      },
      "outputs": [
        {
          "output_type": "display_data",
          "data": {
            "text/plain": [
              "<Figure size 1080x288 with 2 Axes>"
            ],
            "image/png": "[encoded data removed]"
          },
          "metadata": {
            "needs_background": "light"
          }
        }
      ],
      "source": [
        "plot(history_model3)\n"
      ]
    },
    {
      "cell_type": "markdown",
      "metadata": {
        "id": "1lystqvS_2T-"
      },
      "source": [
        "Analysing the visualization for second model ,\n",
        "\n",
        "- Validation loss has increased\n",
        "- Training loss is decreasing with experience\n",
        "- Validation accuracy decreased to 13% and training accuracy decreased to 91.8%\n",
        "The model is overfitting"
      ]
    },
    {
      "cell_type": "markdown",
      "metadata": {
        "id": "IfdTVGIwAerK"
      },
      "source": [
        "## Model 4\n",
        "\n",
        "Add more layers and drop out"
      ]
    },
    {
      "cell_type": "code",
      "execution_count": null,
      "metadata": {
        "id": "w--8xk1-Ako5"
      },
      "outputs": [],
      "source": [
        "class ModelConv3DType4(ModelBuilder):\n",
        "\n",
        "    def define_model(self,filtersize=(3,3,3),dense_neurons=64,dropout=0.25):\n",
        "\n",
        "        model = Sequential()\n",
        "        model.add(Conv3D(16, filtersize, padding='same',\n",
        "                 input_shape=(self.frames_to_sample,self.image_height,self.image_width,self.channels)))\n",
        "        model.add(Activation('relu'))\n",
        "        model.add(BatchNormalization())\n",
        "\n",
        "        model.add(Conv3D(16, filtersize, padding='same',\n",
        "                 input_shape=(self.frames_to_sample,self.image_height,self.image_width,self.channels)))\n",
        "        model.add(Activation('relu'))\n",
        "        model.add(BatchNormalization())\n",
        "\n",
        "        model.add(MaxPooling3D(pool_size=(2, 2, 2)))\n",
        "        model.add(Dropout(dropout))\n",
        "\n",
        "        model.add(Conv3D(32, filtersize, padding='same'))\n",
        "        model.add(Activation('relu'))\n",
        "        model.add(BatchNormalization())\n",
        "\n",
        "        model.add(Conv3D(32, filtersize, padding='same'))\n",
        "        model.add(Activation('relu'))\n",
        "        model.add(BatchNormalization())\n",
        "\n",
        "        model.add(MaxPooling3D(pool_size=(2, 2, 2)))\n",
        "        model.add(Dropout(dropout))\n",
        "\n",
        "        model.add(Conv3D(64, filtersize, padding='same'))\n",
        "        model.add(Activation('relu'))\n",
        "        model.add(BatchNormalization())\n",
        "\n",
        "        model.add(Conv3D(64, filtersize, padding='same'))\n",
        "        model.add(Activation('relu'))\n",
        "        model.add(BatchNormalization())\n",
        "\n",
        "        model.add(MaxPooling3D(pool_size=(2, 2, 2)))\n",
        "        model.add(Dropout(dropout))\n",
        "\n",
        "        model.add(Conv3D(128, filtersize, padding='same'))\n",
        "        model.add(Activation('relu'))\n",
        "        model.add(BatchNormalization())\n",
        "\n",
        "        model.add(Conv3D(128, filtersize, padding='same'))\n",
        "        model.add(Activation('relu'))\n",
        "        model.add(BatchNormalization())\n",
        "\n",
        "        model.add(MaxPooling3D(pool_size=(2, 2, 2)))\n",
        "        model.add(Dropout(dropout))\n",
        "\n",
        "        model.add(Flatten())\n",
        "        model.add(Dense(dense_neurons,activation='relu'))\n",
        "        model.add(BatchNormalization())\n",
        "        model.add(Dropout(dropout))\n",
        "\n",
        "        model.add(Dense(dense_neurons,activation='relu'))\n",
        "        model.add(BatchNormalization())\n",
        "        model.add(Dropout(dropout))\n",
        "\n",
        "\n",
        "        model.add(Dense(self.num_classes,activation='softmax'))\n",
        "        model.compile(optimizer='adam', loss='categorical_crossentropy', metrics=['categorical_accuracy'])\n",
        "        return model"
      ]
    },
    {
      "cell_type": "code",
      "execution_count": null,
      "metadata": {
        "id": "mLiEedakAzyC",
        "colab": {
          "base_uri": "https://localhost:8080/"
        },
        "outputId": "8734f237-58cd-40e4-a8ae-eba294a6ecfe"
      },
      "outputs": [
        {
          "output_type": "stream",
          "name": "stdout",
          "text": [
            "Model: \"sequential_8\"\n",
            "_________________________________________________________________\n",
            " Layer (type)                Output Shape              Param #   \n",
            "=================================================================\n",
            " conv3d_32 (Conv3D)          (None, 16, 100, 100, 16)  1312      \n",
            "                                                                 \n",
            " activation_32 (Activation)  (None, 16, 100, 100, 16)  0         \n",
            "                                                                 \n",
            " batch_normalization_48 (Bat  (None, 16, 100, 100, 16)  64       \n",
            " chNormalization)                                                \n",
            "                                                                 \n",
            " conv3d_33 (Conv3D)          (None, 16, 100, 100, 16)  6928      \n",
            "                                                                 \n",
            " activation_33 (Activation)  (None, 16, 100, 100, 16)  0         \n",
            "                                                                 \n",
            " batch_normalization_49 (Bat  (None, 16, 100, 100, 16)  64       \n",
            " chNormalization)                                                \n",
            "                                                                 \n",
            " max_pooling3d_32 (MaxPoolin  (None, 8, 50, 50, 16)    0         \n",
            " g3D)                                                            \n",
            "                                                                 \n",
            " dropout_16 (Dropout)        (None, 8, 50, 50, 16)     0         \n",
            "                                                                 \n",
            " conv3d_34 (Conv3D)          (None, 8, 50, 50, 32)     13856     \n",
            "                                                                 \n",
            " activation_34 (Activation)  (None, 8, 50, 50, 32)     0         \n",
            "                                                                 \n",
            " batch_normalization_50 (Bat  (None, 8, 50, 50, 32)    128       \n",
            " chNormalization)                                                \n",
            "                                                                 \n",
            " conv3d_35 (Conv3D)          (None, 8, 50, 50, 32)     27680     \n",
            "                                                                 \n",
            " activation_35 (Activation)  (None, 8, 50, 50, 32)     0         \n",
            "                                                                 \n",
            " batch_normalization_51 (Bat  (None, 8, 50, 50, 32)    128       \n",
            " chNormalization)                                                \n",
            "                                                                 \n",
            " max_pooling3d_33 (MaxPoolin  (None, 4, 25, 25, 32)    0         \n",
            " g3D)                                                            \n",
            "                                                                 \n",
            " dropout_17 (Dropout)        (None, 4, 25, 25, 32)     0         \n",
            "                                                                 \n",
            " conv3d_36 (Conv3D)          (None, 4, 25, 25, 64)     55360     \n",
            "                                                                 \n",
            " activation_36 (Activation)  (None, 4, 25, 25, 64)     0         \n",
            "                                                                 \n",
            " batch_normalization_52 (Bat  (None, 4, 25, 25, 64)    256       \n",
            " chNormalization)                                                \n",
            "                                                                 \n",
            " conv3d_37 (Conv3D)          (None, 4, 25, 25, 64)     110656    \n",
            "                                                                 \n",
            " activation_37 (Activation)  (None, 4, 25, 25, 64)     0         \n",
            "                                                                 \n",
            " batch_normalization_53 (Bat  (None, 4, 25, 25, 64)    256       \n",
            " chNormalization)                                                \n",
            "                                                                 \n",
            " max_pooling3d_34 (MaxPoolin  (None, 2, 12, 12, 64)    0         \n",
            " g3D)                                                            \n",
            "                                                                 \n",
            " dropout_18 (Dropout)        (None, 2, 12, 12, 64)     0         \n",
            "                                                                 \n",
            " conv3d_38 (Conv3D)          (None, 2, 12, 12, 128)    221312    \n",
            "                                                                 \n",
            " activation_38 (Activation)  (None, 2, 12, 12, 128)    0         \n",
            "                                                                 \n",
            " batch_normalization_54 (Bat  (None, 2, 12, 12, 128)   512       \n",
            " chNormalization)                                                \n",
            "                                                                 \n",
            " conv3d_39 (Conv3D)          (None, 2, 12, 12, 128)    442496    \n",
            "                                                                 \n",
            " activation_39 (Activation)  (None, 2, 12, 12, 128)    0         \n",
            "                                                                 \n",
            " batch_normalization_55 (Bat  (None, 2, 12, 12, 128)   512       \n",
            " chNormalization)                                                \n",
            "                                                                 \n",
            " max_pooling3d_35 (MaxPoolin  (None, 1, 6, 6, 128)     0         \n",
            " g3D)                                                            \n",
            "                                                                 \n",
            " dropout_19 (Dropout)        (None, 1, 6, 6, 128)      0         \n",
            "                                                                 \n",
            " flatten_8 (Flatten)         (None, 4608)              0         \n",
            "                                                                 \n",
            " dense_24 (Dense)            (None, 128)               589952    \n",
            "                                                                 \n",
            " batch_normalization_56 (Bat  (None, 128)              512       \n",
            " chNormalization)                                                \n",
            "                                                                 \n",
            " dropout_20 (Dropout)        (None, 128)               0         \n",
            "                                                                 \n",
            " dense_25 (Dense)            (None, 128)               16512     \n",
            "                                                                 \n",
            " batch_normalization_57 (Bat  (None, 128)              512       \n",
            " chNormalization)                                                \n",
            "                                                                 \n",
            " dropout_21 (Dropout)        (None, 128)               0         \n",
            "                                                                 \n",
            " dense_26 (Dense)            (None, 5)                 645       \n",
            "                                                                 \n",
            "=================================================================\n",
            "Total params: 1,489,653\n",
            "Trainable params: 1,488,181\n",
            "Non-trainable params: 1,472\n",
            "_________________________________________________________________\n"
          ]
        }
      ],
      "source": [
        "conv_3d_model4_cls = ModelConv3DType4()\n",
        "conv_3d_model4_cls.initialize_image_properties(image_height=100, image_width=100)\n",
        "conv_3d_model4_cls.initialize_hyperparams(frames_to_sample=16, batch_size=20, num_epochs=15)\n",
        "conv_3d_model4 = conv_3d_model4_cls.define_model(filtersize=(3,3,3), dense_neurons=128,dropout=0.25)\n",
        "conv_3d_model4.summary()"
      ]
    },
    {
      "cell_type": "code",
      "execution_count": null,
      "metadata": {
        "id": "1IqIBhe6BYba",
        "colab": {
          "base_uri": "https://localhost:8080/"
        },
        "outputId": "ae82a6d8-e5b2-4e95-aee9-4c82653cd63d"
      },
      "outputs": [
        {
          "output_type": "stream",
          "name": "stdout",
          "text": [
            "Total Params: 1489653\n",
            "WARNING:tensorflow:`period` argument is deprecated. Please use `save_freq` to specify the frequency in number of batches seen.\n",
            "Epoch 1/15\n",
            "34/34 [==============================] - ETA: 0s - loss: 1.7196 - categorical_accuracy: 0.3846\n",
            "Epoch 1: val_loss improved from inf to 1.70764, saving model to model_init_2022-03-1620_06_46.919333/model-00001-1.71964-0.38462-1.70764-0.17000.h5\n",
            "34/34 [==============================] - 53s 2s/step - loss: 1.7196 - categorical_accuracy: 0.3846 - val_loss: 1.7076 - val_categorical_accuracy: 0.1700 - lr: 0.0010\n",
            "Epoch 2/15\n",
            "34/34 [==============================] - ETA: 0s - loss: 1.3399 - categorical_accuracy: 0.4630\n",
            "Epoch 2: val_loss did not improve from 1.70764\n",
            "34/34 [==============================] - 52s 2s/step - loss: 1.3399 - categorical_accuracy: 0.4630 - val_loss: 2.3253 - val_categorical_accuracy: 0.1800 - lr: 0.0010\n",
            "Epoch 3/15\n",
            "34/34 [==============================] - ETA: 0s - loss: 0.9109 - categorical_accuracy: 0.6395\n",
            "Epoch 3: val_loss did not improve from 1.70764\n",
            "34/34 [==============================] - 52s 2s/step - loss: 0.9109 - categorical_accuracy: 0.6395 - val_loss: 4.0533 - val_categorical_accuracy: 0.1500 - lr: 0.0010\n",
            "Epoch 4/15\n",
            "34/34 [==============================] - ETA: 0s - loss: 0.9487 - categorical_accuracy: 0.6606\n",
            "Epoch 4: val_loss did not improve from 1.70764\n",
            "34/34 [==============================] - 51s 2s/step - loss: 0.9487 - categorical_accuracy: 0.6606 - val_loss: 3.7678 - val_categorical_accuracy: 0.1400 - lr: 0.0010\n",
            "Epoch 5/15\n",
            "34/34 [==============================] - ETA: 0s - loss: 0.6578 - categorical_accuracy: 0.7330\n",
            "Epoch 5: val_loss did not improve from 1.70764\n",
            "\n",
            "Epoch 5: ReduceLROnPlateau reducing learning rate to 0.00020000000949949026.\n",
            "34/34 [==============================] - 52s 2s/step - loss: 0.6578 - categorical_accuracy: 0.7330 - val_loss: 4.0776 - val_categorical_accuracy: 0.2500 - lr: 0.0010\n",
            "Epoch 6/15\n",
            "34/34 [==============================] - ETA: 0s - loss: 0.5460 - categorical_accuracy: 0.7949\n",
            "Epoch 6: val_loss did not improve from 1.70764\n",
            "34/34 [==============================] - 52s 2s/step - loss: 0.5460 - categorical_accuracy: 0.7949 - val_loss: 4.3746 - val_categorical_accuracy: 0.2400 - lr: 2.0000e-04\n",
            "Epoch 7/15\n",
            "34/34 [==============================] - ETA: 0s - loss: 0.4074 - categorical_accuracy: 0.8522\n",
            "Epoch 7: val_loss did not improve from 1.70764\n",
            "34/34 [==============================] - 52s 2s/step - loss: 0.4074 - categorical_accuracy: 0.8522 - val_loss: 4.8815 - val_categorical_accuracy: 0.1700 - lr: 2.0000e-04\n",
            "Epoch 8/15\n",
            "34/34 [==============================] - ETA: 0s - loss: 0.4085 - categorical_accuracy: 0.8718\n",
            "Epoch 8: val_loss did not improve from 1.70764\n",
            "34/34 [==============================] - 51s 2s/step - loss: 0.4085 - categorical_accuracy: 0.8718 - val_loss: 4.1744 - val_categorical_accuracy: 0.2600 - lr: 2.0000e-04\n",
            "Epoch 9/15\n",
            "34/34 [==============================] - ETA: 0s - loss: 0.4163 - categorical_accuracy: 0.8582\n",
            "Epoch 9: val_loss did not improve from 1.70764\n",
            "\n",
            "Epoch 9: ReduceLROnPlateau reducing learning rate to 4.0000001899898055e-05.\n",
            "34/34 [==============================] - 51s 2s/step - loss: 0.4163 - categorical_accuracy: 0.8582 - val_loss: 4.2365 - val_categorical_accuracy: 0.2300 - lr: 2.0000e-04\n",
            "Epoch 10/15\n",
            "34/34 [==============================] - ETA: 0s - loss: 0.3552 - categorical_accuracy: 0.8688\n",
            "Epoch 10: val_loss did not improve from 1.70764\n",
            "34/34 [==============================] - 51s 2s/step - loss: 0.3552 - categorical_accuracy: 0.8688 - val_loss: 3.7338 - val_categorical_accuracy: 0.2600 - lr: 4.0000e-05\n",
            "Epoch 11/15\n",
            "34/34 [==============================] - ETA: 0s - loss: 0.3843 - categorical_accuracy: 0.8567\n",
            "Epoch 11: val_loss did not improve from 1.70764\n",
            "34/34 [==============================] - 51s 2s/step - loss: 0.3843 - categorical_accuracy: 0.8567 - val_loss: 3.7126 - val_categorical_accuracy: 0.2900 - lr: 4.0000e-05\n",
            "Epoch 11: early stopping\n"
          ]
        }
      ],
      "source": [
        "print(\"Total Params:\", conv_3d_model4.count_params())\n",
        "history_model4 = conv_3d_model4_cls.train_model(conv_3d_model4)"
      ]
    },
    {
      "cell_type": "code",
      "execution_count": null,
      "metadata": {
        "id": "YFFElXOkOJRR",
        "colab": {
          "base_uri": "https://localhost:8080/",
          "height": 264
        },
        "outputId": "f913dc73-d5eb-43d1-b6ab-0aabb8a93847"
      },
      "outputs": [
        {
          "output_type": "display_data",
          "data": {
            "text/plain": [
              "<Figure size 1080x288 with 2 Axes>"
            ],
            "image/png": "[encoded data removed]"
          },
          "metadata": {
            "needs_background": "light"
          }
        }
      ],
      "source": [
        "plot(history_model4)\n"
      ]
    },
    {
      "cell_type": "markdown",
      "metadata": {
        "id": "8KO4ft41OR5W"
      },
      "source": [
        "Analysing the visualization\n",
        "\n",
        "- validation loss has decreased well than the previous model\n",
        "- training accuracy has decreased only slightly\n",
        "- validation accuracy increased a little to 41% better than model 3 and training accuracy slightly decreased to 87.9%"
      ]
    },
    {
      "cell_type": "markdown",
      "metadata": {
        "id": "w8cVYmHEOzKl"
      },
      "source": [
        "## Model 5\n",
        "\n",
        "Reducing the number of parameters"
      ]
    },
    {
      "cell_type": "code",
      "execution_count": null,
      "metadata": {
        "id": "G1Tt6h8ePHYW"
      },
      "outputs": [],
      "source": [
        "class ModelConv3DType5(ModelBuilder):\n",
        "\n",
        "    def define_model(self,dense_neurons=64,dropout=0.25):\n",
        "\n",
        "        model = Sequential()\n",
        "        model.add(Conv3D(16, (3, 3, 3), padding='same',\n",
        "                 input_shape=(self.frames_to_sample,self.image_height,self.image_width,self.channels)))\n",
        "        model.add(Activation('relu'))\n",
        "        model.add(BatchNormalization())\n",
        "        model.add(MaxPooling3D(pool_size=(2, 2, 2)))\n",
        "\n",
        "        model.add(Conv3D(32, (3, 3, 3), padding='same'))\n",
        "        model.add(Activation('relu'))\n",
        "        model.add(BatchNormalization())\n",
        "        model.add(MaxPooling3D(pool_size=(2, 2, 2)))\n",
        "\n",
        "        model.add(Conv3D(64, (2, 2, 2), padding='same'))\n",
        "        model.add(Activation('relu'))\n",
        "        model.add(BatchNormalization())\n",
        "        model.add(MaxPooling3D(pool_size=(2, 2, 2)))\n",
        "\n",
        "        model.add(Conv3D(128, (2, 2, 2), padding='same'))\n",
        "        model.add(Activation('relu'))\n",
        "        model.add(BatchNormalization())\n",
        "        model.add(MaxPooling3D(pool_size=(2, 2, 2)))\n",
        "\n",
        "        model.add(Flatten())\n",
        "        model.add(Dense(dense_neurons,activation='relu'))\n",
        "        model.add(BatchNormalization())\n",
        "        model.add(Dropout(dropout))\n",
        "\n",
        "        model.add(Dense(dense_neurons,activation='relu'))\n",
        "        model.add(BatchNormalization())\n",
        "        model.add(Dropout(dropout))\n",
        "\n",
        "        model.add(Dense(self.num_classes,activation='softmax'))\n",
        "\n",
        "        optimiser = Adam(lr=0.0002)\n",
        "        model.compile(optimizer=optimiser, loss='categorical_crossentropy', metrics=['categorical_accuracy'])\n",
        "        return model"
      ]
    },
    {
      "cell_type": "code",
      "execution_count": null,
      "metadata": {
        "id": "24BClUsUPRyR",
        "colab": {
          "base_uri": "https://localhost:8080/"
        },
        "outputId": "e4f139bc-47df-457e-f744-42fa90c0a3b0"
      },
      "outputs": [
        {
          "output_type": "stream",
          "name": "stdout",
          "text": [
            "Model: \"sequential_9\"\n",
            "_________________________________________________________________\n",
            " Layer (type)                Output Shape              Param #   \n",
            "=================================================================\n",
            " conv3d_40 (Conv3D)          (None, 16, 100, 100, 16)  1312      \n",
            "                                                                 \n",
            " activation_40 (Activation)  (None, 16, 100, 100, 16)  0         \n",
            "                                                                 \n",
            " batch_normalization_58 (Bat  (None, 16, 100, 100, 16)  64       \n",
            " chNormalization)                                                \n",
            "                                                                 \n",
            " max_pooling3d_36 (MaxPoolin  (None, 8, 50, 50, 16)    0         \n",
            " g3D)                                                            \n",
            "                                                                 \n",
            " conv3d_41 (Conv3D)          (None, 8, 50, 50, 32)     13856     \n",
            "                                                                 \n",
            " activation_41 (Activation)  (None, 8, 50, 50, 32)     0         \n",
            "                                                                 \n",
            " batch_normalization_59 (Bat  (None, 8, 50, 50, 32)    128       \n",
            " chNormalization)                                                \n",
            "                                                                 \n",
            " max_pooling3d_37 (MaxPoolin  (None, 4, 25, 25, 32)    0         \n",
            " g3D)                                                            \n",
            "                                                                 \n",
            " conv3d_42 (Conv3D)          (None, 4, 25, 25, 64)     16448     \n",
            "                                                                 \n",
            " activation_42 (Activation)  (None, 4, 25, 25, 64)     0         \n",
            "                                                                 \n",
            " batch_normalization_60 (Bat  (None, 4, 25, 25, 64)    256       \n",
            " chNormalization)                                                \n",
            "                                                                 \n",
            " max_pooling3d_38 (MaxPoolin  (None, 2, 12, 12, 64)    0         \n",
            " g3D)                                                            \n",
            "                                                                 \n",
            " conv3d_43 (Conv3D)          (None, 2, 12, 12, 128)    65664     \n",
            "                                                                 \n",
            " activation_43 (Activation)  (None, 2, 12, 12, 128)    0         \n",
            "                                                                 \n",
            " batch_normalization_61 (Bat  (None, 2, 12, 12, 128)   512       \n",
            " chNormalization)                                                \n",
            "                                                                 \n",
            " max_pooling3d_39 (MaxPoolin  (None, 1, 6, 6, 128)     0         \n",
            " g3D)                                                            \n",
            "                                                                 \n",
            " flatten_9 (Flatten)         (None, 4608)              0         \n",
            "                                                                 \n",
            " dense_27 (Dense)            (None, 64)                294976    \n",
            "                                                                 \n",
            " batch_normalization_62 (Bat  (None, 64)               256       \n",
            " chNormalization)                                                \n",
            "                                                                 \n",
            " dropout_22 (Dropout)        (None, 64)                0         \n",
            "                                                                 \n",
            " dense_28 (Dense)            (None, 64)                4160      \n",
            "                                                                 \n",
            " batch_normalization_63 (Bat  (None, 64)               256       \n",
            " chNormalization)                                                \n",
            "                                                                 \n",
            " dropout_23 (Dropout)        (None, 64)                0         \n",
            "                                                                 \n",
            " dense_29 (Dense)            (None, 5)                 325       \n",
            "                                                                 \n",
            "=================================================================\n",
            "Total params: 398,213\n",
            "Trainable params: 397,477\n",
            "Non-trainable params: 736\n",
            "_________________________________________________________________\n"
          ]
        }
      ],
      "source": [
        "conv_3d_model5_cls = ModelConv3DType5()\n",
        "conv_3d_model5_cls.initialize_image_properties(image_height=100, image_width=100)\n",
        "conv_3d_model5_cls.initialize_hyperparams(frames_to_sample=16, batch_size=20, num_epochs=15)\n",
        "conv_3d_model5 = conv_3d_model5_cls.define_model(dense_neurons=64,dropout=0.25)\n",
        "conv_3d_model5.summary()"
      ]
    },
    {
      "cell_type": "code",
      "execution_count": null,
      "metadata": {
        "id": "FBdHWluXPvZi",
        "colab": {
          "base_uri": "https://localhost:8080/"
        },
        "outputId": "96762d92-9438-48ed-b7b1-cc6b6ed9fc94"
      },
      "outputs": [
        {
          "output_type": "stream",
          "name": "stdout",
          "text": [
            "Total Params: 398213\n",
            "WARNING:tensorflow:`period` argument is deprecated. Please use `save_freq` to specify the frequency in number of batches seen.\n",
            "Epoch 1/15\n",
            "34/34 [==============================] - ETA: 0s - loss: 1.8234 - categorical_accuracy: 0.3439\n",
            "Epoch 1: val_loss improved from inf to 1.98473, saving model to model_init_2022-03-1620_16_16.731530/model-00001-1.82336-0.34389-1.98473-0.21000.h5\n",
            "34/34 [==============================] - 52s 2s/step - loss: 1.8234 - categorical_accuracy: 0.3439 - val_loss: 1.9847 - val_categorical_accuracy: 0.2100 - lr: 2.0000e-04\n",
            "Epoch 2/15\n",
            "34/34 [==============================] - ETA: 0s - loss: 1.1777 - categorical_accuracy: 0.5566\n",
            "Epoch 2: val_loss did not improve from 1.98473\n",
            "34/34 [==============================] - 51s 2s/step - loss: 1.1777 - categorical_accuracy: 0.5566 - val_loss: 2.7062 - val_categorical_accuracy: 0.2300 - lr: 2.0000e-04\n",
            "Epoch 3/15\n",
            "34/34 [==============================] - ETA: 0s - loss: 0.8522 - categorical_accuracy: 0.6923\n",
            "Epoch 3: val_loss did not improve from 1.98473\n",
            "34/34 [==============================] - 50s 2s/step - loss: 0.8522 - categorical_accuracy: 0.6923 - val_loss: 3.7703 - val_categorical_accuracy: 0.1800 - lr: 2.0000e-04\n",
            "Epoch 4/15\n",
            "34/34 [==============================] - ETA: 0s - loss: 0.7478 - categorical_accuracy: 0.7134\n",
            "Epoch 4: val_loss did not improve from 1.98473\n",
            "34/34 [==============================] - 51s 2s/step - loss: 0.7478 - categorical_accuracy: 0.7134 - val_loss: 4.2281 - val_categorical_accuracy: 0.1800 - lr: 2.0000e-04\n",
            "Epoch 5/15\n",
            "34/34 [==============================] - ETA: 0s - loss: 0.5823 - categorical_accuracy: 0.8054\n",
            "Epoch 5: val_loss did not improve from 1.98473\n",
            "\n",
            "Epoch 5: ReduceLROnPlateau reducing learning rate to 3.9999998989515007e-05.\n",
            "34/34 [==============================] - 51s 2s/step - loss: 0.5823 - categorical_accuracy: 0.8054 - val_loss: 4.6443 - val_categorical_accuracy: 0.2200 - lr: 2.0000e-04\n",
            "Epoch 6/15\n",
            "34/34 [==============================] - ETA: 0s - loss: 0.5112 - categorical_accuracy: 0.8250\n",
            "Epoch 6: val_loss did not improve from 1.98473\n",
            "34/34 [==============================] - 51s 2s/step - loss: 0.5112 - categorical_accuracy: 0.8250 - val_loss: 5.3151 - val_categorical_accuracy: 0.2100 - lr: 4.0000e-05\n",
            "Epoch 7/15\n",
            "34/34 [==============================] - ETA: 0s - loss: 0.4884 - categorical_accuracy: 0.8386\n",
            "Epoch 7: val_loss did not improve from 1.98473\n",
            "34/34 [==============================] - 51s 2s/step - loss: 0.4884 - categorical_accuracy: 0.8386 - val_loss: 5.3307 - val_categorical_accuracy: 0.2000 - lr: 4.0000e-05\n",
            "Epoch 8/15\n",
            "34/34 [==============================] - ETA: 0s - loss: 0.4591 - categorical_accuracy: 0.8401\n",
            "Epoch 8: val_loss did not improve from 1.98473\n",
            "34/34 [==============================] - 52s 2s/step - loss: 0.4591 - categorical_accuracy: 0.8401 - val_loss: 5.8484 - val_categorical_accuracy: 0.2000 - lr: 4.0000e-05\n",
            "Epoch 9/15\n",
            "34/34 [==============================] - ETA: 0s - loss: 0.4539 - categorical_accuracy: 0.8582\n",
            "Epoch 9: val_loss did not improve from 1.98473\n",
            "\n",
            "Epoch 9: ReduceLROnPlateau reducing learning rate to 7.999999797903002e-06.\n",
            "34/34 [==============================] - 50s 2s/step - loss: 0.4539 - categorical_accuracy: 0.8582 - val_loss: 5.7131 - val_categorical_accuracy: 0.2100 - lr: 4.0000e-05\n",
            "Epoch 10/15\n",
            "34/34 [==============================] - ETA: 0s - loss: 0.4805 - categorical_accuracy: 0.8250\n",
            "Epoch 10: val_loss did not improve from 1.98473\n",
            "34/34 [==============================] - 51s 2s/step - loss: 0.4805 - categorical_accuracy: 0.8250 - val_loss: 5.0644 - val_categorical_accuracy: 0.2200 - lr: 8.0000e-06\n",
            "Epoch 11/15\n",
            "34/34 [==============================] - ETA: 0s - loss: 0.4323 - categorical_accuracy: 0.8703\n",
            "Epoch 11: val_loss did not improve from 1.98473\n",
            "34/34 [==============================] - 51s 2s/step - loss: 0.4323 - categorical_accuracy: 0.8703 - val_loss: 4.2358 - val_categorical_accuracy: 0.2700 - lr: 8.0000e-06\n",
            "Epoch 11: early stopping\n"
          ]
        }
      ],
      "source": [
        "print(\"Total Params:\", conv_3d_model5.count_params())\n",
        "history_model5 = conv_3d_model5_cls.train_model(conv_3d_model5)"
      ]
    },
    {
      "cell_type": "code",
      "execution_count": null,
      "metadata": {
        "id": "Uh6n4ef5PMU9",
        "colab": {
          "base_uri": "https://localhost:8080/",
          "height": 266
        },
        "outputId": "2a88e75b-2162-4d77-ae6f-446886412630"
      },
      "outputs": [
        {
          "output_type": "display_data",
          "data": {
            "text/plain": [
              "<Figure size 1080x288 with 2 Axes>"
            ],
            "image/png": "[encoded data removed]"
          },
          "metadata": {
            "needs_background": "light"
          }
        }
      ],
      "source": [
        "plot(history_model5)\n"
      ]
    },
    {
      "cell_type": "markdown",
      "metadata": {
        "id": "zKazpHnGJcpy"
      },
      "source": [
        "Analysing Visualization\n",
        "- With lesser params the validation loss increased slightly\n",
        "-  the validation accuracy decreased to 27%\n",
        "- training accuracy is same and is around 87%"
      ]
    },
    {
      "cell_type": "markdown",
      "metadata": {
        "id": "yZB-Tvv0KAkZ"
      },
      "source": [
        "## Model 6 - CNN- LSTM Model\n"
      ]
    },
    {
      "cell_type": "code",
      "execution_count": null,
      "metadata": {
        "id": "ktWH88f9KOln"
      },
      "outputs": [],
      "source": [
        "class CNNLSTMModel(ModelBuilder):\n",
        "\n",
        "    def define_model(self,lstm_cells=64,dense_neurons=64,dropout=0.25):\n",
        "\n",
        "        model = Sequential()\n",
        "\n",
        "        model.add(TimeDistributed(Conv2D(16, (3, 3) , padding='same', activation='relu'),\n",
        "                                  input_shape=(self.frames_to_sample,self.image_height,self.image_width,self.channels)))\n",
        "        model.add(TimeDistributed(BatchNormalization()))\n",
        "        model.add(TimeDistributed(MaxPooling2D((2, 2))))\n",
        "\n",
        "        model.add(TimeDistributed(Conv2D(32, (3, 3) , padding='same', activation='relu')))\n",
        "        model.add(TimeDistributed(BatchNormalization()))\n",
        "        model.add(TimeDistributed(MaxPooling2D((2, 2))))\n",
        "\n",
        "        model.add(TimeDistributed(Conv2D(64, (3, 3) , padding='same', activation='relu')))\n",
        "        model.add(TimeDistributed(BatchNormalization()))\n",
        "        model.add(TimeDistributed(MaxPooling2D((2, 2))))\n",
        "\n",
        "        model.add(TimeDistributed(Conv2D(128, (3, 3) , padding='same', activation='relu')))\n",
        "        model.add(TimeDistributed(BatchNormalization()))\n",
        "        model.add(TimeDistributed(MaxPooling2D((2, 2))))\n",
        "\n",
        "        model.add(TimeDistributed(Conv2D(256, (3, 3) , padding='same', activation='relu')))\n",
        "        model.add(TimeDistributed(BatchNormalization()))\n",
        "        model.add(TimeDistributed(MaxPooling2D((2, 2))))\n",
        "\n",
        "        model.add(TimeDistributed(Conv2D(512, (2, 2) , padding='valid', activation='relu')))\n",
        "        model.add(TimeDistributed(BatchNormalization()))\n",
        "        model.add(TimeDistributed(MaxPooling2D((2, 2))))\n",
        "\n",
        "        model.add(TimeDistributed(Flatten()))\n",
        "\n",
        "\n",
        "        model.add(LSTM(lstm_cells))\n",
        "        model.add(Dropout(dropout))\n",
        "\n",
        "        model.add(Dense(dense_neurons,activation='relu'))\n",
        "        model.add(Dropout(dropout))\n",
        "\n",
        "        model.add(Dense(self.num_classes, activation='softmax'))\n",
        "        model.compile(optimizer='adam', loss='categorical_crossentropy', metrics=['categorical_accuracy'])\n",
        "        return model"
      ]
    },
    {
      "cell_type": "code",
      "execution_count": null,
      "metadata": {
        "id": "dOn4XCEhKgLT",
        "colab": {
          "base_uri": "https://localhost:8080/"
        },
        "outputId": "18fae858-1cc2-43b5-b1a1-2f44c3d93a81"
      },
      "outputs": [
        {
          "output_type": "stream",
          "name": "stdout",
          "text": [
            "Model: \"sequential_13\"\n",
            "_________________________________________________________________\n",
            " Layer (type)                Output Shape              Param #   \n",
            "=================================================================\n",
            " time_distributed_54 (TimeDi  (None, 18, 120, 120, 16)  448      \n",
            " stributed)                                                      \n",
            "                                                                 \n",
            " time_distributed_55 (TimeDi  (None, 18, 120, 120, 16)  64       \n",
            " stributed)                                                      \n",
            "                                                                 \n",
            " time_distributed_56 (TimeDi  (None, 18, 60, 60, 16)   0         \n",
            " stributed)                                                      \n",
            "                                                                 \n",
            " time_distributed_57 (TimeDi  (None, 18, 60, 60, 32)   4640      \n",
            " stributed)                                                      \n",
            "                                                                 \n",
            " time_distributed_58 (TimeDi  (None, 18, 60, 60, 32)   128       \n",
            " stributed)                                                      \n",
            "                                                                 \n",
            " time_distributed_59 (TimeDi  (None, 18, 30, 30, 32)   0         \n",
            " stributed)                                                      \n",
            "                                                                 \n",
            " time_distributed_60 (TimeDi  (None, 18, 30, 30, 64)   18496     \n",
            " stributed)                                                      \n",
            "                                                                 \n",
            " time_distributed_61 (TimeDi  (None, 18, 30, 30, 64)   256       \n",
            " stributed)                                                      \n",
            "                                                                 \n",
            " time_distributed_62 (TimeDi  (None, 18, 15, 15, 64)   0         \n",
            " stributed)                                                      \n",
            "                                                                 \n",
            " time_distributed_63 (TimeDi  (None, 18, 15, 15, 128)  73856     \n",
            " stributed)                                                      \n",
            "                                                                 \n",
            " time_distributed_64 (TimeDi  (None, 18, 15, 15, 128)  512       \n",
            " stributed)                                                      \n",
            "                                                                 \n",
            " time_distributed_65 (TimeDi  (None, 18, 7, 7, 128)    0         \n",
            " stributed)                                                      \n",
            "                                                                 \n",
            " time_distributed_66 (TimeDi  (None, 18, 7, 7, 256)    295168    \n",
            " stributed)                                                      \n",
            "                                                                 \n",
            " time_distributed_67 (TimeDi  (None, 18, 7, 7, 256)    1024      \n",
            " stributed)                                                      \n",
            "                                                                 \n",
            " time_distributed_68 (TimeDi  (None, 18, 3, 3, 256)    0         \n",
            " stributed)                                                      \n",
            "                                                                 \n",
            " time_distributed_69 (TimeDi  (None, 18, 2, 2, 512)    524800    \n",
            " stributed)                                                      \n",
            "                                                                 \n",
            " time_distributed_70 (TimeDi  (None, 18, 2, 2, 512)    2048      \n",
            " stributed)                                                      \n",
            "                                                                 \n",
            " time_distributed_71 (TimeDi  (None, 18, 1, 1, 512)    0         \n",
            " stributed)                                                      \n",
            "                                                                 \n",
            " time_distributed_72 (TimeDi  (None, 18, 512)          0         \n",
            " stributed)                                                      \n",
            "                                                                 \n",
            " lstm_2 (LSTM)               (None, 128)               328192    \n",
            "                                                                 \n",
            " dropout_28 (Dropout)        (None, 128)               0         \n",
            "                                                                 \n",
            " dense_34 (Dense)            (None, 128)               16512     \n",
            "                                                                 \n",
            " dropout_29 (Dropout)        (None, 128)               0         \n",
            "                                                                 \n",
            " dense_35 (Dense)            (None, 5)                 645       \n",
            "                                                                 \n",
            "=================================================================\n",
            "Total params: 1,266,789\n",
            "Trainable params: 1,264,773\n",
            "Non-trainable params: 2,016\n",
            "_________________________________________________________________\n"
          ]
        }
      ],
      "source": [
        "cnn_lstm = CNNLSTMModel()\n",
        "cnn_lstm.initialize_image_properties(image_height=120,image_width=120)\n",
        "cnn_lstm.initialize_hyperparams(frames_to_sample=18,batch_size=20,num_epochs=20)\n",
        "cnn_lstm_model = cnn_lstm.define_model(lstm_cells=128,dense_neurons=128,dropout=0.25)\n",
        "cnn_lstm_model.summary()"
      ]
    },
    {
      "cell_type": "code",
      "execution_count": null,
      "metadata": {
        "id": "ET0BJ29xPlsr",
        "colab": {
          "base_uri": "https://localhost:8080/"
        },
        "outputId": "5c7d453e-6170-498c-ba48-af87a48b16bb"
      },
      "outputs": [
        {
          "output_type": "stream",
          "name": "stdout",
          "text": [
            "Total Params: 1266789\n",
            "WARNING:tensorflow:`period` argument is deprecated. Please use `save_freq` to specify the frequency in number of batches seen.\n",
            "Epoch 1/20\n",
            "34/34 [==============================] - ETA: 0s - loss: 1.2690 - categorical_accuracy: 0.4563\n",
            "Epoch 1: val_loss improved from inf to 1.89606, saving model to model_init_2022-03-1620_54_50.906745/model-00001-1.26902-0.45626-1.89606-0.21000.h5\n",
            "34/34 [==============================] - 101s 3s/step - loss: 1.2690 - categorical_accuracy: 0.4563 - val_loss: 1.8961 - val_categorical_accuracy: 0.2100 - lr: 0.0010\n",
            "Epoch 2/20\n",
            "34/34 [==============================] - ETA: 0s - loss: 0.9263 - categorical_accuracy: 0.6463\n",
            "Epoch 2: val_loss did not improve from 1.89606\n",
            "34/34 [==============================] - 96s 3s/step - loss: 0.9263 - categorical_accuracy: 0.6463 - val_loss: 2.1096 - val_categorical_accuracy: 0.2000 - lr: 0.0010\n",
            "Epoch 3/20\n",
            "34/34 [==============================] - ETA: 0s - loss: 0.7892 - categorical_accuracy: 0.7097\n",
            "Epoch 3: val_loss did not improve from 1.89606\n",
            "34/34 [==============================] - 95s 3s/step - loss: 0.7892 - categorical_accuracy: 0.7097 - val_loss: 2.0515 - val_categorical_accuracy: 0.2200 - lr: 0.0010\n",
            "Epoch 4/20\n",
            "34/34 [==============================] - ETA: 0s - loss: 0.5889 - categorical_accuracy: 0.7896\n",
            "Epoch 4: val_loss improved from 1.89606 to 1.84549, saving model to model_init_2022-03-1620_54_50.906745/model-00004-0.58887-0.78959-1.84549-0.28000.h5\n",
            "34/34 [==============================] - 97s 3s/step - loss: 0.5889 - categorical_accuracy: 0.7896 - val_loss: 1.8455 - val_categorical_accuracy: 0.2800 - lr: 0.0010\n",
            "Epoch 5/20\n",
            "34/34 [==============================] - ETA: 0s - loss: 0.4309 - categorical_accuracy: 0.8499\n",
            "Epoch 5: val_loss did not improve from 1.84549\n",
            "34/34 [==============================] - 96s 3s/step - loss: 0.4309 - categorical_accuracy: 0.8499 - val_loss: 2.8305 - val_categorical_accuracy: 0.2000 - lr: 0.0010\n",
            "Epoch 6/20\n",
            "34/34 [==============================] - ETA: 0s - loss: 0.4104 - categorical_accuracy: 0.8612\n",
            "Epoch 6: val_loss did not improve from 1.84549\n",
            "34/34 [==============================] - 98s 3s/step - loss: 0.4104 - categorical_accuracy: 0.8612 - val_loss: 2.3587 - val_categorical_accuracy: 0.1800 - lr: 0.0010\n",
            "Epoch 7/20\n",
            "34/34 [==============================] - ETA: 0s - loss: 0.3811 - categorical_accuracy: 0.8741\n",
            "Epoch 7: val_loss did not improve from 1.84549\n",
            "34/34 [==============================] - 97s 3s/step - loss: 0.3811 - categorical_accuracy: 0.8741 - val_loss: 1.8955 - val_categorical_accuracy: 0.1500 - lr: 0.0010\n",
            "Epoch 8/20\n",
            "34/34 [==============================] - ETA: 0s - loss: 0.2865 - categorical_accuracy: 0.8891\n",
            "Epoch 8: val_loss did not improve from 1.84549\n",
            "\n",
            "Epoch 8: ReduceLROnPlateau reducing learning rate to 0.00020000000949949026.\n",
            "34/34 [==============================] - 99s 3s/step - loss: 0.2865 - categorical_accuracy: 0.8891 - val_loss: 2.5829 - val_categorical_accuracy: 0.2500 - lr: 0.0010\n",
            "Epoch 9/20\n",
            "34/34 [==============================] - ETA: 0s - loss: 0.1617 - categorical_accuracy: 0.9525\n",
            "Epoch 9: val_loss did not improve from 1.84549\n",
            "34/34 [==============================] - 95s 3s/step - loss: 0.1617 - categorical_accuracy: 0.9525 - val_loss: 2.2555 - val_categorical_accuracy: 0.3600 - lr: 2.0000e-04\n",
            "Epoch 10/20\n",
            "34/34 [==============================] - ETA: 0s - loss: 0.1088 - categorical_accuracy: 0.9653\n",
            "Epoch 10: val_loss did not improve from 1.84549\n",
            "34/34 [==============================] - 97s 3s/step - loss: 0.1088 - categorical_accuracy: 0.9653 - val_loss: 2.2822 - val_categorical_accuracy: 0.3800 - lr: 2.0000e-04\n",
            "Epoch 11/20\n",
            "34/34 [==============================] - ETA: 0s - loss: 0.0793 - categorical_accuracy: 0.9796\n",
            "Epoch 11: val_loss did not improve from 1.84549\n",
            "34/34 [==============================] - 98s 3s/step - loss: 0.0793 - categorical_accuracy: 0.9796 - val_loss: 2.3938 - val_categorical_accuracy: 0.4200 - lr: 2.0000e-04\n",
            "Epoch 12/20\n",
            "34/34 [==============================] - ETA: 0s - loss: 0.0681 - categorical_accuracy: 0.9796\n",
            "Epoch 12: val_loss did not improve from 1.84549\n",
            "\n",
            "Epoch 12: ReduceLROnPlateau reducing learning rate to 4.0000001899898055e-05.\n",
            "34/34 [==============================] - 95s 3s/step - loss: 0.0681 - categorical_accuracy: 0.9796 - val_loss: 2.4371 - val_categorical_accuracy: 0.4100 - lr: 2.0000e-04\n",
            "Epoch 13/20\n",
            "34/34 [==============================] - ETA: 0s - loss: 0.0597 - categorical_accuracy: 0.9849\n",
            "Epoch 13: val_loss improved from 1.84549 to 1.80219, saving model to model_init_2022-03-1620_54_50.906745/model-00013-0.05967-0.98492-1.80219-0.59000.h5\n",
            "34/34 [==============================] - 95s 3s/step - loss: 0.0597 - categorical_accuracy: 0.9849 - val_loss: 1.8022 - val_categorical_accuracy: 0.5900 - lr: 4.0000e-05\n",
            "Epoch 14/20\n",
            "34/34 [==============================] - ETA: 0s - loss: 0.0462 - categorical_accuracy: 0.9879\n",
            "Epoch 14: val_loss improved from 1.80219 to 1.47195, saving model to model_init_2022-03-1620_54_50.906745/model-00014-0.04623-0.98793-1.47195-0.63000.h5\n",
            "34/34 [==============================] - 97s 3s/step - loss: 0.0462 - categorical_accuracy: 0.9879 - val_loss: 1.4720 - val_categorical_accuracy: 0.6300 - lr: 4.0000e-05\n",
            "Epoch 15/20\n",
            "34/34 [==============================] - ETA: 0s - loss: 0.0471 - categorical_accuracy: 0.9917\n",
            "Epoch 15: val_loss improved from 1.47195 to 0.84787, saving model to model_init_2022-03-1620_54_50.906745/model-00015-0.04711-0.99170-0.84787-0.80000.h5\n",
            "34/34 [==============================] - 96s 3s/step - loss: 0.0471 - categorical_accuracy: 0.9917 - val_loss: 0.8479 - val_categorical_accuracy: 0.8000 - lr: 4.0000e-05\n",
            "Epoch 16/20\n",
            "34/34 [==============================] - ETA: 0s - loss: 0.0744 - categorical_accuracy: 0.9811\n",
            "Epoch 16: val_loss did not improve from 0.84787\n",
            "34/34 [==============================] - 95s 3s/step - loss: 0.0744 - categorical_accuracy: 0.9811 - val_loss: 0.9277 - val_categorical_accuracy: 0.7500 - lr: 4.0000e-05\n",
            "Epoch 17/20\n",
            "34/34 [==============================] - ETA: 0s - loss: 0.0586 - categorical_accuracy: 0.9827\n",
            "Epoch 17: val_loss improved from 0.84787 to 0.63701, saving model to model_init_2022-03-1620_54_50.906745/model-00017-0.05856-0.98265-0.63701-0.79000.h5\n",
            "34/34 [==============================] - 95s 3s/step - loss: 0.0586 - categorical_accuracy: 0.9827 - val_loss: 0.6370 - val_categorical_accuracy: 0.7900 - lr: 4.0000e-05\n",
            "Epoch 18/20\n",
            "34/34 [==============================] - ETA: 0s - loss: 0.0491 - categorical_accuracy: 0.9879\n",
            "Epoch 18: val_loss improved from 0.63701 to 0.37639, saving model to model_init_2022-03-1620_54_50.906745/model-00018-0.04905-0.98793-0.37639-0.83000.h5\n",
            "34/34 [==============================] - 95s 3s/step - loss: 0.0491 - categorical_accuracy: 0.9879 - val_loss: 0.3764 - val_categorical_accuracy: 0.8300 - lr: 4.0000e-05\n",
            "Epoch 19/20\n",
            "34/34 [==============================] - ETA: 0s - loss: 0.0412 - categorical_accuracy: 0.9925\n",
            "Epoch 19: val_loss improved from 0.37639 to 0.32940, saving model to model_init_2022-03-1620_54_50.906745/model-00019-0.04117-0.99246-0.32940-0.87000.h5\n",
            "34/34 [==============================] - 98s 3s/step - loss: 0.0412 - categorical_accuracy: 0.9925 - val_loss: 0.3294 - val_categorical_accuracy: 0.8700 - lr: 4.0000e-05\n",
            "Epoch 20/20\n",
            "34/34 [==============================] - ETA: 0s - loss: 0.0455 - categorical_accuracy: 0.9864\n",
            "Epoch 20: val_loss did not improve from 0.32940\n",
            "34/34 [==============================] - 98s 3s/step - loss: 0.0455 - categorical_accuracy: 0.9864 - val_loss: 0.3425 - val_categorical_accuracy: 0.8600 - lr: 4.0000e-05\n"
          ]
        }
      ],
      "source": [
        "print(\"Total Params:\", cnn_lstm_model.count_params())\n",
        "history_model6 = cnn_lstm.train_model(cnn_lstm_model,augment_data=True)"
      ]
    },
    {
      "cell_type": "code",
      "execution_count": null,
      "metadata": {
        "id": "zhotBeiiQFK4",
        "colab": {
          "base_uri": "https://localhost:8080/",
          "height": 260
        },
        "outputId": "1aeb1db9-f1b1-457d-dd5f-9fee707d45b6"
      },
      "outputs": [
        {
          "output_type": "display_data",
          "data": {
            "text/plain": [
              "<Figure size 1080x288 with 2 Axes>"
            ],
            "image/png": "[encoded data removed]"
          },
          "metadata": {
            "needs_background": "light"
          }
        }
      ],
      "source": [
        "plot(history_model6)\n"
      ]
    }
  ],
  "metadata": {
    "accelerator": "GPU",
    "colab": {
      "provenance": [],
      "machine_shape": "hm",
      "include_colab_link": true
    },
    "kernelspec": {
      "display_name": "Python 3",
      "name": "python3"
    },
    "language_info": {
      "name": "python"
    }
  },
  "nbformat": 4,
  "nbformat_minor": 0
}